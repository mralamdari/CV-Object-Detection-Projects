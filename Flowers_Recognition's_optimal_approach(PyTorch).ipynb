{
  "nbformat": 4,
  "nbformat_minor": 0,
  "metadata": {
    "colab": {
      "name": "Flowers Recognition's optimal approach(PyTorch).ipynb",
      "provenance": [],
      "collapsed_sections": [
        "lK6qlnOUYjmE",
        "7dOds-ENZD4T",
        "j7zgXlvXaUFZ",
        "wWw4Nu42bwXV",
        "XCehPDdk5BhW"
      ],
      "mount_file_id": "1Fs7uwsH-s5dBA45deEpwXRAzfyYFUc-O",
      "authorship_tag": "ABX9TyNjwCUjd7jO8bybZvzcbD19",
      "include_colab_link": true
    },
    "kernelspec": {
      "name": "python3",
      "display_name": "Python 3"
    },
    "language_info": {
      "name": "python"
    },
    "gpuClass": "standard",
    "widgets": {
      "application/vnd.jupyter.widget-state+json": {
        "81f4b7897924417888d5a03c780a8ea4": {
          "model_module": "@jupyter-widgets/controls",
          "model_name": "HBoxModel",
          "model_module_version": "1.5.0",
          "state": {
            "_dom_classes": [],
            "_model_module": "@jupyter-widgets/controls",
            "_model_module_version": "1.5.0",
            "_model_name": "HBoxModel",
            "_view_count": null,
            "_view_module": "@jupyter-widgets/controls",
            "_view_module_version": "1.5.0",
            "_view_name": "HBoxView",
            "box_style": "",
            "children": [
              "IPY_MODEL_37b0c2f86ff141a085cab546e89d78c8",
              "IPY_MODEL_e924c38777af4380ab4e2e3b5ea46044",
              "IPY_MODEL_34559af7c09a4adf8bae724708990143"
            ],
            "layout": "IPY_MODEL_57c9bfab7a4c420c88024e9b8618e0c3"
          }
        },
        "37b0c2f86ff141a085cab546e89d78c8": {
          "model_module": "@jupyter-widgets/controls",
          "model_name": "HTMLModel",
          "model_module_version": "1.5.0",
          "state": {
            "_dom_classes": [],
            "_model_module": "@jupyter-widgets/controls",
            "_model_module_version": "1.5.0",
            "_model_name": "HTMLModel",
            "_view_count": null,
            "_view_module": "@jupyter-widgets/controls",
            "_view_module_version": "1.5.0",
            "_view_name": "HTMLView",
            "description": "",
            "description_tooltip": null,
            "layout": "IPY_MODEL_43bfc29a38294a0f8d027d0238801a92",
            "placeholder": "​",
            "style": "IPY_MODEL_0ceac3c8b3d04980a006f8af59245741",
            "value": "100%"
          }
        },
        "e924c38777af4380ab4e2e3b5ea46044": {
          "model_module": "@jupyter-widgets/controls",
          "model_name": "FloatProgressModel",
          "model_module_version": "1.5.0",
          "state": {
            "_dom_classes": [],
            "_model_module": "@jupyter-widgets/controls",
            "_model_module_version": "1.5.0",
            "_model_name": "FloatProgressModel",
            "_view_count": null,
            "_view_module": "@jupyter-widgets/controls",
            "_view_module_version": "1.5.0",
            "_view_name": "ProgressView",
            "bar_style": "success",
            "description": "",
            "description_tooltip": null,
            "layout": "IPY_MODEL_86860d7806ec4462bab2e2807116a172",
            "max": 553433881,
            "min": 0,
            "orientation": "horizontal",
            "style": "IPY_MODEL_469595efad604e1881ea5d415563dfee",
            "value": 553433881
          }
        },
        "34559af7c09a4adf8bae724708990143": {
          "model_module": "@jupyter-widgets/controls",
          "model_name": "HTMLModel",
          "model_module_version": "1.5.0",
          "state": {
            "_dom_classes": [],
            "_model_module": "@jupyter-widgets/controls",
            "_model_module_version": "1.5.0",
            "_model_name": "HTMLModel",
            "_view_count": null,
            "_view_module": "@jupyter-widgets/controls",
            "_view_module_version": "1.5.0",
            "_view_name": "HTMLView",
            "description": "",
            "description_tooltip": null,
            "layout": "IPY_MODEL_c07a5db842a048b1bab869a98d3927b8",
            "placeholder": "​",
            "style": "IPY_MODEL_206eba908c594b659dd0fbae2473abbd",
            "value": " 528M/528M [00:04&lt;00:00, 123MB/s]"
          }
        },
        "57c9bfab7a4c420c88024e9b8618e0c3": {
          "model_module": "@jupyter-widgets/base",
          "model_name": "LayoutModel",
          "model_module_version": "1.2.0",
          "state": {
            "_model_module": "@jupyter-widgets/base",
            "_model_module_version": "1.2.0",
            "_model_name": "LayoutModel",
            "_view_count": null,
            "_view_module": "@jupyter-widgets/base",
            "_view_module_version": "1.2.0",
            "_view_name": "LayoutView",
            "align_content": null,
            "align_items": null,
            "align_self": null,
            "border": null,
            "bottom": null,
            "display": null,
            "flex": null,
            "flex_flow": null,
            "grid_area": null,
            "grid_auto_columns": null,
            "grid_auto_flow": null,
            "grid_auto_rows": null,
            "grid_column": null,
            "grid_gap": null,
            "grid_row": null,
            "grid_template_areas": null,
            "grid_template_columns": null,
            "grid_template_rows": null,
            "height": null,
            "justify_content": null,
            "justify_items": null,
            "left": null,
            "margin": null,
            "max_height": null,
            "max_width": null,
            "min_height": null,
            "min_width": null,
            "object_fit": null,
            "object_position": null,
            "order": null,
            "overflow": null,
            "overflow_x": null,
            "overflow_y": null,
            "padding": null,
            "right": null,
            "top": null,
            "visibility": null,
            "width": null
          }
        },
        "43bfc29a38294a0f8d027d0238801a92": {
          "model_module": "@jupyter-widgets/base",
          "model_name": "LayoutModel",
          "model_module_version": "1.2.0",
          "state": {
            "_model_module": "@jupyter-widgets/base",
            "_model_module_version": "1.2.0",
            "_model_name": "LayoutModel",
            "_view_count": null,
            "_view_module": "@jupyter-widgets/base",
            "_view_module_version": "1.2.0",
            "_view_name": "LayoutView",
            "align_content": null,
            "align_items": null,
            "align_self": null,
            "border": null,
            "bottom": null,
            "display": null,
            "flex": null,
            "flex_flow": null,
            "grid_area": null,
            "grid_auto_columns": null,
            "grid_auto_flow": null,
            "grid_auto_rows": null,
            "grid_column": null,
            "grid_gap": null,
            "grid_row": null,
            "grid_template_areas": null,
            "grid_template_columns": null,
            "grid_template_rows": null,
            "height": null,
            "justify_content": null,
            "justify_items": null,
            "left": null,
            "margin": null,
            "max_height": null,
            "max_width": null,
            "min_height": null,
            "min_width": null,
            "object_fit": null,
            "object_position": null,
            "order": null,
            "overflow": null,
            "overflow_x": null,
            "overflow_y": null,
            "padding": null,
            "right": null,
            "top": null,
            "visibility": null,
            "width": null
          }
        },
        "0ceac3c8b3d04980a006f8af59245741": {
          "model_module": "@jupyter-widgets/controls",
          "model_name": "DescriptionStyleModel",
          "model_module_version": "1.5.0",
          "state": {
            "_model_module": "@jupyter-widgets/controls",
            "_model_module_version": "1.5.0",
            "_model_name": "DescriptionStyleModel",
            "_view_count": null,
            "_view_module": "@jupyter-widgets/base",
            "_view_module_version": "1.2.0",
            "_view_name": "StyleView",
            "description_width": ""
          }
        },
        "86860d7806ec4462bab2e2807116a172": {
          "model_module": "@jupyter-widgets/base",
          "model_name": "LayoutModel",
          "model_module_version": "1.2.0",
          "state": {
            "_model_module": "@jupyter-widgets/base",
            "_model_module_version": "1.2.0",
            "_model_name": "LayoutModel",
            "_view_count": null,
            "_view_module": "@jupyter-widgets/base",
            "_view_module_version": "1.2.0",
            "_view_name": "LayoutView",
            "align_content": null,
            "align_items": null,
            "align_self": null,
            "border": null,
            "bottom": null,
            "display": null,
            "flex": null,
            "flex_flow": null,
            "grid_area": null,
            "grid_auto_columns": null,
            "grid_auto_flow": null,
            "grid_auto_rows": null,
            "grid_column": null,
            "grid_gap": null,
            "grid_row": null,
            "grid_template_areas": null,
            "grid_template_columns": null,
            "grid_template_rows": null,
            "height": null,
            "justify_content": null,
            "justify_items": null,
            "left": null,
            "margin": null,
            "max_height": null,
            "max_width": null,
            "min_height": null,
            "min_width": null,
            "object_fit": null,
            "object_position": null,
            "order": null,
            "overflow": null,
            "overflow_x": null,
            "overflow_y": null,
            "padding": null,
            "right": null,
            "top": null,
            "visibility": null,
            "width": null
          }
        },
        "469595efad604e1881ea5d415563dfee": {
          "model_module": "@jupyter-widgets/controls",
          "model_name": "ProgressStyleModel",
          "model_module_version": "1.5.0",
          "state": {
            "_model_module": "@jupyter-widgets/controls",
            "_model_module_version": "1.5.0",
            "_model_name": "ProgressStyleModel",
            "_view_count": null,
            "_view_module": "@jupyter-widgets/base",
            "_view_module_version": "1.2.0",
            "_view_name": "StyleView",
            "bar_color": null,
            "description_width": ""
          }
        },
        "c07a5db842a048b1bab869a98d3927b8": {
          "model_module": "@jupyter-widgets/base",
          "model_name": "LayoutModel",
          "model_module_version": "1.2.0",
          "state": {
            "_model_module": "@jupyter-widgets/base",
            "_model_module_version": "1.2.0",
            "_model_name": "LayoutModel",
            "_view_count": null,
            "_view_module": "@jupyter-widgets/base",
            "_view_module_version": "1.2.0",
            "_view_name": "LayoutView",
            "align_content": null,
            "align_items": null,
            "align_self": null,
            "border": null,
            "bottom": null,
            "display": null,
            "flex": null,
            "flex_flow": null,
            "grid_area": null,
            "grid_auto_columns": null,
            "grid_auto_flow": null,
            "grid_auto_rows": null,
            "grid_column": null,
            "grid_gap": null,
            "grid_row": null,
            "grid_template_areas": null,
            "grid_template_columns": null,
            "grid_template_rows": null,
            "height": null,
            "justify_content": null,
            "justify_items": null,
            "left": null,
            "margin": null,
            "max_height": null,
            "max_width": null,
            "min_height": null,
            "min_width": null,
            "object_fit": null,
            "object_position": null,
            "order": null,
            "overflow": null,
            "overflow_x": null,
            "overflow_y": null,
            "padding": null,
            "right": null,
            "top": null,
            "visibility": null,
            "width": null
          }
        },
        "206eba908c594b659dd0fbae2473abbd": {
          "model_module": "@jupyter-widgets/controls",
          "model_name": "DescriptionStyleModel",
          "model_module_version": "1.5.0",
          "state": {
            "_model_module": "@jupyter-widgets/controls",
            "_model_module_version": "1.5.0",
            "_model_name": "DescriptionStyleModel",
            "_view_count": null,
            "_view_module": "@jupyter-widgets/base",
            "_view_module_version": "1.2.0",
            "_view_name": "StyleView",
            "description_width": ""
          }
        },
        "086b1e51e5934d4da2e6a5a889eda558": {
          "model_module": "@jupyter-widgets/controls",
          "model_name": "HBoxModel",
          "model_module_version": "1.5.0",
          "state": {
            "_dom_classes": [],
            "_model_module": "@jupyter-widgets/controls",
            "_model_module_version": "1.5.0",
            "_model_name": "HBoxModel",
            "_view_count": null,
            "_view_module": "@jupyter-widgets/controls",
            "_view_module_version": "1.5.0",
            "_view_name": "HBoxView",
            "box_style": "",
            "children": [
              "IPY_MODEL_00a1bcc78be445bab21cf3d85d33fc31",
              "IPY_MODEL_536dca0260c444128484fc99e3d9c468",
              "IPY_MODEL_e7053db6e3ea4f14814961fe48b7fc8f"
            ],
            "layout": "IPY_MODEL_db73bc63f7814410811d848dbeacf9f4"
          }
        },
        "00a1bcc78be445bab21cf3d85d33fc31": {
          "model_module": "@jupyter-widgets/controls",
          "model_name": "HTMLModel",
          "model_module_version": "1.5.0",
          "state": {
            "_dom_classes": [],
            "_model_module": "@jupyter-widgets/controls",
            "_model_module_version": "1.5.0",
            "_model_name": "HTMLModel",
            "_view_count": null,
            "_view_module": "@jupyter-widgets/controls",
            "_view_module_version": "1.5.0",
            "_view_name": "HTMLView",
            "description": "",
            "description_tooltip": null,
            "layout": "IPY_MODEL_8fe864cb10b1413892af891e78e114e4",
            "placeholder": "​",
            "style": "IPY_MODEL_b0e39134e665447f95f5e0a17a3b1785",
            "value": "100%"
          }
        },
        "536dca0260c444128484fc99e3d9c468": {
          "model_module": "@jupyter-widgets/controls",
          "model_name": "FloatProgressModel",
          "model_module_version": "1.5.0",
          "state": {
            "_dom_classes": [],
            "_model_module": "@jupyter-widgets/controls",
            "_model_module_version": "1.5.0",
            "_model_name": "FloatProgressModel",
            "_view_count": null,
            "_view_module": "@jupyter-widgets/controls",
            "_view_module_version": "1.5.0",
            "_view_name": "ProgressView",
            "bar_style": "success",
            "description": "",
            "description_tooltip": null,
            "layout": "IPY_MODEL_9a3c73a7e35c4d068578b194e55dee35",
            "max": 574769405,
            "min": 0,
            "orientation": "horizontal",
            "style": "IPY_MODEL_539b48a97a7c4096950d083c430475df",
            "value": 574769405
          }
        },
        "e7053db6e3ea4f14814961fe48b7fc8f": {
          "model_module": "@jupyter-widgets/controls",
          "model_name": "HTMLModel",
          "model_module_version": "1.5.0",
          "state": {
            "_dom_classes": [],
            "_model_module": "@jupyter-widgets/controls",
            "_model_module_version": "1.5.0",
            "_model_name": "HTMLModel",
            "_view_count": null,
            "_view_module": "@jupyter-widgets/controls",
            "_view_module_version": "1.5.0",
            "_view_name": "HTMLView",
            "description": "",
            "description_tooltip": null,
            "layout": "IPY_MODEL_f5f14e55d82e4b33abc80bbe30e4181f",
            "placeholder": "​",
            "style": "IPY_MODEL_3a392c37d2e149e28a13931fedad4e55",
            "value": " 548M/548M [00:10&lt;00:00, 102MB/s]"
          }
        },
        "db73bc63f7814410811d848dbeacf9f4": {
          "model_module": "@jupyter-widgets/base",
          "model_name": "LayoutModel",
          "model_module_version": "1.2.0",
          "state": {
            "_model_module": "@jupyter-widgets/base",
            "_model_module_version": "1.2.0",
            "_model_name": "LayoutModel",
            "_view_count": null,
            "_view_module": "@jupyter-widgets/base",
            "_view_module_version": "1.2.0",
            "_view_name": "LayoutView",
            "align_content": null,
            "align_items": null,
            "align_self": null,
            "border": null,
            "bottom": null,
            "display": null,
            "flex": null,
            "flex_flow": null,
            "grid_area": null,
            "grid_auto_columns": null,
            "grid_auto_flow": null,
            "grid_auto_rows": null,
            "grid_column": null,
            "grid_gap": null,
            "grid_row": null,
            "grid_template_areas": null,
            "grid_template_columns": null,
            "grid_template_rows": null,
            "height": null,
            "justify_content": null,
            "justify_items": null,
            "left": null,
            "margin": null,
            "max_height": null,
            "max_width": null,
            "min_height": null,
            "min_width": null,
            "object_fit": null,
            "object_position": null,
            "order": null,
            "overflow": null,
            "overflow_x": null,
            "overflow_y": null,
            "padding": null,
            "right": null,
            "top": null,
            "visibility": null,
            "width": null
          }
        },
        "8fe864cb10b1413892af891e78e114e4": {
          "model_module": "@jupyter-widgets/base",
          "model_name": "LayoutModel",
          "model_module_version": "1.2.0",
          "state": {
            "_model_module": "@jupyter-widgets/base",
            "_model_module_version": "1.2.0",
            "_model_name": "LayoutModel",
            "_view_count": null,
            "_view_module": "@jupyter-widgets/base",
            "_view_module_version": "1.2.0",
            "_view_name": "LayoutView",
            "align_content": null,
            "align_items": null,
            "align_self": null,
            "border": null,
            "bottom": null,
            "display": null,
            "flex": null,
            "flex_flow": null,
            "grid_area": null,
            "grid_auto_columns": null,
            "grid_auto_flow": null,
            "grid_auto_rows": null,
            "grid_column": null,
            "grid_gap": null,
            "grid_row": null,
            "grid_template_areas": null,
            "grid_template_columns": null,
            "grid_template_rows": null,
            "height": null,
            "justify_content": null,
            "justify_items": null,
            "left": null,
            "margin": null,
            "max_height": null,
            "max_width": null,
            "min_height": null,
            "min_width": null,
            "object_fit": null,
            "object_position": null,
            "order": null,
            "overflow": null,
            "overflow_x": null,
            "overflow_y": null,
            "padding": null,
            "right": null,
            "top": null,
            "visibility": null,
            "width": null
          }
        },
        "b0e39134e665447f95f5e0a17a3b1785": {
          "model_module": "@jupyter-widgets/controls",
          "model_name": "DescriptionStyleModel",
          "model_module_version": "1.5.0",
          "state": {
            "_model_module": "@jupyter-widgets/controls",
            "_model_module_version": "1.5.0",
            "_model_name": "DescriptionStyleModel",
            "_view_count": null,
            "_view_module": "@jupyter-widgets/base",
            "_view_module_version": "1.2.0",
            "_view_name": "StyleView",
            "description_width": ""
          }
        },
        "9a3c73a7e35c4d068578b194e55dee35": {
          "model_module": "@jupyter-widgets/base",
          "model_name": "LayoutModel",
          "model_module_version": "1.2.0",
          "state": {
            "_model_module": "@jupyter-widgets/base",
            "_model_module_version": "1.2.0",
            "_model_name": "LayoutModel",
            "_view_count": null,
            "_view_module": "@jupyter-widgets/base",
            "_view_module_version": "1.2.0",
            "_view_name": "LayoutView",
            "align_content": null,
            "align_items": null,
            "align_self": null,
            "border": null,
            "bottom": null,
            "display": null,
            "flex": null,
            "flex_flow": null,
            "grid_area": null,
            "grid_auto_columns": null,
            "grid_auto_flow": null,
            "grid_auto_rows": null,
            "grid_column": null,
            "grid_gap": null,
            "grid_row": null,
            "grid_template_areas": null,
            "grid_template_columns": null,
            "grid_template_rows": null,
            "height": null,
            "justify_content": null,
            "justify_items": null,
            "left": null,
            "margin": null,
            "max_height": null,
            "max_width": null,
            "min_height": null,
            "min_width": null,
            "object_fit": null,
            "object_position": null,
            "order": null,
            "overflow": null,
            "overflow_x": null,
            "overflow_y": null,
            "padding": null,
            "right": null,
            "top": null,
            "visibility": null,
            "width": null
          }
        },
        "539b48a97a7c4096950d083c430475df": {
          "model_module": "@jupyter-widgets/controls",
          "model_name": "ProgressStyleModel",
          "model_module_version": "1.5.0",
          "state": {
            "_model_module": "@jupyter-widgets/controls",
            "_model_module_version": "1.5.0",
            "_model_name": "ProgressStyleModel",
            "_view_count": null,
            "_view_module": "@jupyter-widgets/base",
            "_view_module_version": "1.2.0",
            "_view_name": "StyleView",
            "bar_color": null,
            "description_width": ""
          }
        },
        "f5f14e55d82e4b33abc80bbe30e4181f": {
          "model_module": "@jupyter-widgets/base",
          "model_name": "LayoutModel",
          "model_module_version": "1.2.0",
          "state": {
            "_model_module": "@jupyter-widgets/base",
            "_model_module_version": "1.2.0",
            "_model_name": "LayoutModel",
            "_view_count": null,
            "_view_module": "@jupyter-widgets/base",
            "_view_module_version": "1.2.0",
            "_view_name": "LayoutView",
            "align_content": null,
            "align_items": null,
            "align_self": null,
            "border": null,
            "bottom": null,
            "display": null,
            "flex": null,
            "flex_flow": null,
            "grid_area": null,
            "grid_auto_columns": null,
            "grid_auto_flow": null,
            "grid_auto_rows": null,
            "grid_column": null,
            "grid_gap": null,
            "grid_row": null,
            "grid_template_areas": null,
            "grid_template_columns": null,
            "grid_template_rows": null,
            "height": null,
            "justify_content": null,
            "justify_items": null,
            "left": null,
            "margin": null,
            "max_height": null,
            "max_width": null,
            "min_height": null,
            "min_width": null,
            "object_fit": null,
            "object_position": null,
            "order": null,
            "overflow": null,
            "overflow_x": null,
            "overflow_y": null,
            "padding": null,
            "right": null,
            "top": null,
            "visibility": null,
            "width": null
          }
        },
        "3a392c37d2e149e28a13931fedad4e55": {
          "model_module": "@jupyter-widgets/controls",
          "model_name": "DescriptionStyleModel",
          "model_module_version": "1.5.0",
          "state": {
            "_model_module": "@jupyter-widgets/controls",
            "_model_module_version": "1.5.0",
            "_model_name": "DescriptionStyleModel",
            "_view_count": null,
            "_view_module": "@jupyter-widgets/base",
            "_view_module_version": "1.2.0",
            "_view_name": "StyleView",
            "description_width": ""
          }
        }
      }
    },
    "accelerator": "GPU"
  },
  "cells": [
    {
      "cell_type": "markdown",
      "metadata": {
        "id": "view-in-github",
        "colab_type": "text"
      },
      "source": [
        "<a href=\"https://colab.research.google.com/github/mralamdari/CV-Object-Detection-Projects/blob/main/Flowers_Recognition's_optimal_approach(PyTorch).ipynb\" target=\"_parent\"><img src=\"https://colab.research.google.com/assets/colab-badge.svg\" alt=\"Open In Colab\"/></a>"
      ]
    },
    {
      "cell_type": "markdown",
      "source": [
        "#Hello 👋\n",
        "####This repository will give you a simple approach (but an effective one) to code in PyTorch that can be used recursively for any other problems in Machine Learning/Deep Learning Field.\n",
        "\n",
        "\n",
        "#####Unfortunately, the Ram crushes in the Colab, so I can't train it with PyTorch; if you have more ram, feel free to run this code, but if you don't have a powerful system to run it, you can run this code in [My Kaggle Notebook](https://www.kaggle.com/code/mralamdari/flowers-recognition-s-optimal-approach-PyTorch), there are more models with trainning results in this notebook and you can easily edit and run it.\n",
        "#####You can get more details on this project and learn about object recognition on my article on medium; [How to do Object Recognition with PyTorch(Keras) the Easiest way](https://medium.com/@mr.alamdari/imagehow-to-do-object-recognition-with-PyTorch-keras-the-easiest-way-23c7ab9604c7)"
      ],
      "metadata": {
        "id": "B4InkozPbMUz"
      }
    },
    {
      "cell_type": "markdown",
      "source": [
        "# 1.Import Essential Libraris\n"
      ],
      "metadata": {
        "id": "gJJkAcMiH_uz"
      }
    },
    {
      "cell_type": "code",
      "execution_count": 11,
      "metadata": {
        "id": "m-yaX8oXa0Zc"
      },
      "outputs": [],
      "source": [
        "import os\n",
        "import copy\n",
        "import time\n",
        "import torch\n",
        "import warnings\n",
        "import matplotlib\n",
        "import torchvision\n",
        "import pandas as pd\n",
        "from PIL import Image\n",
        "import matplotlib.pyplot as plt\n",
        "from sklearn import model_selection, metrics, preprocessing"
      ]
    },
    {
      "cell_type": "code",
      "source": [
        "warnings.filterwarnings('ignore')\n",
        "warnings.filterwarnings('always')"
      ],
      "metadata": {
        "id": "gIRIdfKebJrZ"
      },
      "execution_count": 2,
      "outputs": []
    },
    {
      "cell_type": "code",
      "source": [
        "os.environ['KAGGLE_CONFIG_DIR'] = '/content/drive/MyDrive'\n",
        "!kaggle datasets download -d alxmamaev/flowers-recognition\n",
        "!unzip \\*.zip && rm *.zip"
      ],
      "metadata": {
        "id": "pjO6o3X9bLTc"
      },
      "execution_count": null,
      "outputs": []
    },
    {
      "cell_type": "markdown",
      "source": [
        "#2. Data\n",
        "The Dataset in this project contains 4242 images of flowers; the data collection is based on the data Flickr, Google Images, and Yandex images, and it is used to recognize plants from the photo. There are five kinds of flowers: daisy, dandelion, rose, sunflower, and tulip, and each class has about 800 pictures of different sizes but not high resolutions. You can access the dataset here."
      ],
      "metadata": {
        "id": "fyw2zXQCZf_X"
      }
    },
    {
      "cell_type": "markdown",
      "source": [
        "In PyTorch, you can readily do DataAugmentation and grow your dataset's size; since Neural Networks need more data to train, it will enhance the model's performance."
      ],
      "metadata": {
        "id": "2tMuo4SXIJ7E"
      }
    },
    {
      "cell_type": "markdown",
      "source": [
        "### Transformer"
      ],
      "metadata": {
        "id": "hDuXm5QEbPhP"
      }
    },
    {
      "cell_type": "code",
      "source": [
        "path = '/content/flowers'"
      ],
      "metadata": {
        "id": "eRGf8UhVIa38"
      },
      "execution_count": 4,
      "outputs": []
    },
    {
      "cell_type": "code",
      "source": [
        "mean = (0.4124234616756439, 0.3674212694168091, 0.2578217089176178)\n",
        "std = (0.3268945515155792, 0.29282665252685547, 0.29053378105163574)"
      ],
      "metadata": {
        "id": "FiNpp5fFIa0-"
      },
      "execution_count": 5,
      "outputs": []
    },
    {
      "cell_type": "code",
      "source": [
        "transformer = {\n",
        "    'original': torchvision.transforms.Compose([\n",
        "                                               torchvision.transforms.Resize((220, 220)),\n",
        "                                               torchvision.transforms.ToTensor(),\n",
        "                                               torchvision.transforms.Normalize(mean, std)\n",
        "    ]),\n",
        "    'dataset1': torchvision.transforms.Compose([\n",
        "                                               torchvision.transforms.Resize((220, 220)),\n",
        "                                               torchvision.transforms.ColorJitter(brightness=0.2, contrast=0.2, saturation=0.2),\n",
        "                                               torchvision.transforms.RandomRotation(5),\n",
        "                                               torchvision.transforms.RandomAffine(degrees=11, translate=(0.1, 0.1), scale=(0.8, 0.8)),\n",
        "                                               torchvision.transforms.ToTensor(),\n",
        "                                               torchvision.transforms.Normalize(mean, std)\n",
        "    ]),\n",
        "    'dataset2': torchvision.transforms.Compose([\n",
        "                                               torchvision.transforms.Resize((220, 220)),\n",
        "                                               torchvision.transforms.RandomHorizontalFlip(),\n",
        "                                               torchvision.transforms.RandomRotation(10),\n",
        "                                               torchvision.transforms.RandomAffine(degrees=0, translate=(0.05, 0.05)),\n",
        "                                               torchvision.transforms.ToTensor(),\n",
        "                                               torchvision.transforms.RandomErasing(inplace=True, scale=(0.01,  0.23)),\n",
        "                                               torchvision.transforms.Normalize(mean, std)\n",
        "    ]),\n",
        "    'dataset3': torchvision.transforms.Compose([\n",
        "                                               torchvision.transforms.Resize((220, 220)),\n",
        "                                               torchvision.transforms.RandomHorizontalFlip(p=0.5),\n",
        "                                               torchvision.transforms.RandomRotation(15),\n",
        "                                               torchvision.transforms.RandomAffine(degrees=11, translate=(0.1, 0.1), scale=(0.8, 0.8)),\n",
        "                                               torchvision.transforms.ToTensor(),\n",
        "                                               torchvision.transforms.Normalize(mean, std)\n",
        "    ]),\n",
        "}"
      ],
      "metadata": {
        "id": "f0x_YFWsZl-J"
      },
      "execution_count": 6,
      "outputs": []
    },
    {
      "cell_type": "markdown",
      "source": [
        "### Train/Test/Val Split"
      ],
      "metadata": {
        "id": "E_bZHpkLIfqL"
      }
    },
    {
      "cell_type": "code",
      "source": [
        "#all dataset ==> train&val + test\n",
        "original = torchvision.datasets.ImageFolder(path, transform=transformer['original'])\n",
        "train_val, test = model_selection.train_test_split(original, test_size=0.2, random_state=32, shuffle=True)"
      ],
      "metadata": {
        "id": "YsWMn0nHZ6i_"
      },
      "execution_count": 7,
      "outputs": []
    },
    {
      "cell_type": "code",
      "source": [
        "# train_val  ==> train + val + dataset1 + dataset2 + dataset3\n",
        "train_val_ds = torch.utils.data.ConcatDataset([train_val,\n",
        "                                torchvision.datasets.ImageFolder(path, transform=transformer['dataset1']),\n",
        "                                torchvision.datasets.ImageFolder(path, transform=transformer['dataset2']),\n",
        "                                torchvision.datasets.ImageFolder(path, transform=transformer['dataset3'])])"
      ],
      "metadata": {
        "id": "X37IoxYBh2Yh"
      },
      "execution_count": null,
      "outputs": []
    },
    {
      "cell_type": "code",
      "source": [
        "train, val = model_selection.train_test_split(train_val_ds, test_size=0.1, random_state=32, shuffle=True)"
      ],
      "metadata": {
        "id": "EOvQhx0478K5"
      },
      "execution_count": null,
      "outputs": []
    },
    {
      "cell_type": "markdown",
      "source": [
        "###Notice:\n",
        "since there isn't enough ram to support all dataset1 + dataset2 + dataset3, I will only use train_val and test set as my train / val datasets."
      ],
      "metadata": {
        "id": "kjYjm0ymG54D"
      }
    },
    {
      "cell_type": "code",
      "source": [
        "train = train_val\n",
        "val = test"
      ],
      "metadata": {
        "id": "LeXifuVWG3un"
      },
      "execution_count": 8,
      "outputs": []
    },
    {
      "cell_type": "markdown",
      "source": [
        "### Data Loader"
      ],
      "metadata": {
        "id": "Kt3DEY_mZhRe"
      }
    },
    {
      "cell_type": "code",
      "source": [
        "batch_size=32\n",
        "data_loaders = {\n",
        "    'train': torch.utils.data.DataLoader(train, batch_size=batch_size, num_workers=2, pin_memory=True),\n",
        "    'val': torch.utils.data.DataLoader(val, batch_size=batch_size, num_workers=2, pin_memory=True),\n",
        "    'test': torch.utils.data.DataLoader(test, batch_size=batch_size, num_workers=2, pin_memory=True)\n",
        "}\n",
        "\n",
        "dataset_sizes = {\n",
        "    'train': len(train),\n",
        "    'val': len(val),\n",
        "    'test': len(test)\n",
        "}"
      ],
      "metadata": {
        "id": "GKISSfNM79rz"
      },
      "execution_count": 9,
      "outputs": []
    },
    {
      "cell_type": "code",
      "source": [
        "dataset_sizes"
      ],
      "metadata": {
        "id": "jX5C031KBziX",
        "colab": {
          "base_uri": "https://localhost:8080/"
        },
        "outputId": "eda6276b-c748-4e7e-9958-af99c0f1422d"
      },
      "execution_count": 10,
      "outputs": [
        {
          "output_type": "execute_result",
          "data": {
            "text/plain": [
              "{'test': 864, 'train': 3453, 'val': 864}"
            ]
          },
          "metadata": {},
          "execution_count": 10
        }
      ]
    },
    {
      "cell_type": "markdown",
      "source": [
        "#### How ImBalance is ourdaset"
      ],
      "metadata": {
        "id": "emWpcyMrI_7q"
      }
    },
    {
      "cell_type": "code",
      "source": [
        "dic = {}\n",
        "for cls in original.classes:\n",
        "  dic[cls] = len(os.listdir(f'{path}/{cls}'))\n",
        "\n",
        "samplesize = pd.DataFrame(dic, index=[0])\n",
        "samplesize"
      ],
      "metadata": {
        "id": "ryH9H0qt8RMt",
        "colab": {
          "base_uri": "https://localhost:8080/",
          "height": 81
        },
        "outputId": "b32c4446-d5f4-4f61-f3a4-2cc5eb85c43b"
      },
      "execution_count": null,
      "outputs": [
        {
          "output_type": "execute_result",
          "data": {
            "text/plain": [
              "   daisy  dandelion  rose  sunflower  tulip\n",
              "0    764       1052   784        733    984"
            ],
            "text/html": [
              "\n",
              "  <div id=\"df-87490d38-aeb0-4f60-908b-839344dad6c2\">\n",
              "    <div class=\"colab-df-container\">\n",
              "      <div>\n",
              "<style scoped>\n",
              "    .dataframe tbody tr th:only-of-type {\n",
              "        vertical-align: middle;\n",
              "    }\n",
              "\n",
              "    .dataframe tbody tr th {\n",
              "        vertical-align: top;\n",
              "    }\n",
              "\n",
              "    .dataframe thead th {\n",
              "        text-align: right;\n",
              "    }\n",
              "</style>\n",
              "<table border=\"1\" class=\"dataframe\">\n",
              "  <thead>\n",
              "    <tr style=\"text-align: right;\">\n",
              "      <th></th>\n",
              "      <th>daisy</th>\n",
              "      <th>dandelion</th>\n",
              "      <th>rose</th>\n",
              "      <th>sunflower</th>\n",
              "      <th>tulip</th>\n",
              "    </tr>\n",
              "  </thead>\n",
              "  <tbody>\n",
              "    <tr>\n",
              "      <th>0</th>\n",
              "      <td>764</td>\n",
              "      <td>1052</td>\n",
              "      <td>784</td>\n",
              "      <td>733</td>\n",
              "      <td>984</td>\n",
              "    </tr>\n",
              "  </tbody>\n",
              "</table>\n",
              "</div>\n",
              "      <button class=\"colab-df-convert\" onclick=\"convertToInteractive('df-87490d38-aeb0-4f60-908b-839344dad6c2')\"\n",
              "              title=\"Convert this dataframe to an interactive table.\"\n",
              "              style=\"display:none;\">\n",
              "        \n",
              "  <svg xmlns=\"http://www.w3.org/2000/svg\" height=\"24px\"viewBox=\"0 0 24 24\"\n",
              "       width=\"24px\">\n",
              "    <path d=\"M0 0h24v24H0V0z\" fill=\"none\"/>\n",
              "    <path d=\"M18.56 5.44l.94 2.06.94-2.06 2.06-.94-2.06-.94-.94-2.06-.94 2.06-2.06.94zm-11 1L8.5 8.5l.94-2.06 2.06-.94-2.06-.94L8.5 2.5l-.94 2.06-2.06.94zm10 10l.94 2.06.94-2.06 2.06-.94-2.06-.94-.94-2.06-.94 2.06-2.06.94z\"/><path d=\"M17.41 7.96l-1.37-1.37c-.4-.4-.92-.59-1.43-.59-.52 0-1.04.2-1.43.59L10.3 9.45l-7.72 7.72c-.78.78-.78 2.05 0 2.83L4 21.41c.39.39.9.59 1.41.59.51 0 1.02-.2 1.41-.59l7.78-7.78 2.81-2.81c.8-.78.8-2.07 0-2.86zM5.41 20L4 18.59l7.72-7.72 1.47 1.35L5.41 20z\"/>\n",
              "  </svg>\n",
              "      </button>\n",
              "      \n",
              "  <style>\n",
              "    .colab-df-container {\n",
              "      display:flex;\n",
              "      flex-wrap:wrap;\n",
              "      gap: 12px;\n",
              "    }\n",
              "\n",
              "    .colab-df-convert {\n",
              "      background-color: #E8F0FE;\n",
              "      border: none;\n",
              "      border-radius: 50%;\n",
              "      cursor: pointer;\n",
              "      display: none;\n",
              "      fill: #1967D2;\n",
              "      height: 32px;\n",
              "      padding: 0 0 0 0;\n",
              "      width: 32px;\n",
              "    }\n",
              "\n",
              "    .colab-df-convert:hover {\n",
              "      background-color: #E2EBFA;\n",
              "      box-shadow: 0px 1px 2px rgba(60, 64, 67, 0.3), 0px 1px 3px 1px rgba(60, 64, 67, 0.15);\n",
              "      fill: #174EA6;\n",
              "    }\n",
              "\n",
              "    [theme=dark] .colab-df-convert {\n",
              "      background-color: #3B4455;\n",
              "      fill: #D2E3FC;\n",
              "    }\n",
              "\n",
              "    [theme=dark] .colab-df-convert:hover {\n",
              "      background-color: #434B5C;\n",
              "      box-shadow: 0px 1px 3px 1px rgba(0, 0, 0, 0.15);\n",
              "      filter: drop-shadow(0px 1px 2px rgba(0, 0, 0, 0.3));\n",
              "      fill: #FFFFFF;\n",
              "    }\n",
              "  </style>\n",
              "\n",
              "      <script>\n",
              "        const buttonEl =\n",
              "          document.querySelector('#df-87490d38-aeb0-4f60-908b-839344dad6c2 button.colab-df-convert');\n",
              "        buttonEl.style.display =\n",
              "          google.colab.kernel.accessAllowed ? 'block' : 'none';\n",
              "\n",
              "        async function convertToInteractive(key) {\n",
              "          const element = document.querySelector('#df-87490d38-aeb0-4f60-908b-839344dad6c2');\n",
              "          const dataTable =\n",
              "            await google.colab.kernel.invokeFunction('convertToInteractive',\n",
              "                                                     [key], {});\n",
              "          if (!dataTable) return;\n",
              "\n",
              "          const docLinkHtml = 'Like what you see? Visit the ' +\n",
              "            '<a target=\"_blank\" href=https://colab.research.google.com/notebooks/data_table.ipynb>data table notebook</a>'\n",
              "            + ' to learn more about interactive tables.';\n",
              "          element.innerHTML = '';\n",
              "          dataTable['output_type'] = 'display_data';\n",
              "          await google.colab.output.renderOutput(dataTable, element);\n",
              "          const docLink = document.createElement('div');\n",
              "          docLink.innerHTML = docLinkHtml;\n",
              "          element.appendChild(docLink);\n",
              "        }\n",
              "      </script>\n",
              "    </div>\n",
              "  </div>\n",
              "  "
            ]
          },
          "metadata": {},
          "execution_count": 10
        }
      ]
    },
    {
      "cell_type": "code",
      "source": [
        "sns.barplot(data=samplesize)"
      ],
      "metadata": {
        "id": "vdKBLdj88X-s",
        "colab": {
          "base_uri": "https://localhost:8080/",
          "height": 165
        },
        "outputId": "d7acc8ff-e563-418f-e166-6c4f48345a75"
      },
      "execution_count": 12,
      "outputs": [
        {
          "output_type": "error",
          "ename": "NameError",
          "evalue": "ignored",
          "traceback": [
            "\u001b[0;31m---------------------------------------------------------------------------\u001b[0m",
            "\u001b[0;31mNameError\u001b[0m                                 Traceback (most recent call last)",
            "\u001b[0;32m<ipython-input-12-299a01e96692>\u001b[0m in \u001b[0;36m<module>\u001b[0;34m()\u001b[0m\n\u001b[0;32m----> 1\u001b[0;31m \u001b[0msns\u001b[0m\u001b[0;34m.\u001b[0m\u001b[0mbarplot\u001b[0m\u001b[0;34m(\u001b[0m\u001b[0mdata\u001b[0m\u001b[0;34m=\u001b[0m\u001b[0msamplesize\u001b[0m\u001b[0;34m)\u001b[0m\u001b[0;34m\u001b[0m\u001b[0;34m\u001b[0m\u001b[0m\n\u001b[0m",
            "\u001b[0;31mNameError\u001b[0m: name 'sns' is not defined"
          ]
        }
      ]
    },
    {
      "cell_type": "markdown",
      "source": [
        "# 3.Visualization"
      ],
      "metadata": {
        "id": "hHW7OcjKIzm8"
      }
    },
    {
      "cell_type": "code",
      "source": [
        "z, _ = next(iter(data_loaders['test']))\n",
        "print(z.mean(), z.std())\n",
        "img_norm = z[0].permute(1, 2, 0).numpy()\n",
        "plt.imshow(img_norm)"
      ],
      "metadata": {
        "id": "He4USmY48OdO",
        "colab": {
          "base_uri": "https://localhost:8080/",
          "height": 320
        },
        "outputId": "fed9079d-2a3a-4f61-f5e5-d5bbf240595c"
      },
      "execution_count": null,
      "outputs": [
        {
          "output_type": "stream",
          "name": "stderr",
          "text": [
            "Clipping input data to the valid range for imshow with RGB data ([0..1] for floats or [0..255] for integers).\n"
          ]
        },
        {
          "output_type": "stream",
          "name": "stdout",
          "text": [
            "tensor(0.0876) tensor(0.8731)\n"
          ]
        },
        {
          "output_type": "execute_result",
          "data": {
            "text/plain": [
              "<matplotlib.image.AxesImage at 0x7feda807c710>"
            ]
          },
          "metadata": {},
          "execution_count": 19
        },
        {
          "output_type": "display_data",
          "data": {
            "text/plain": [
              "<Figure size 432x288 with 1 Axes>"
            ],
            "image/png": "[encoded data removed]"
          },
          "metadata": {
            "needs_background": "light"
          }
        }
      ]
    },
    {
      "cell_type": "code",
      "source": [
        "z, _ = next(iter(data_loaders['val']))\n",
        "print(z.mean(), z.std())\n",
        "img_norm = z[0].permute(1, 2, 0).numpy()\n",
        "plt.imshow(img_norm)"
      ],
      "metadata": {
        "id": "Y4YQU2vkFZes",
        "colab": {
          "base_uri": "https://localhost:8080/",
          "height": 320
        },
        "outputId": "1940351e-ec56-46db-f448-efc205d8e49f"
      },
      "execution_count": null,
      "outputs": [
        {
          "output_type": "stream",
          "name": "stderr",
          "text": [
            "Clipping input data to the valid range for imshow with RGB data ([0..1] for floats or [0..255] for integers).\n"
          ]
        },
        {
          "output_type": "stream",
          "name": "stdout",
          "text": [
            "tensor(-0.1441) tensor(0.9451)\n"
          ]
        },
        {
          "output_type": "execute_result",
          "data": {
            "text/plain": [
              "<matplotlib.image.AxesImage at 0x7feda7ffb610>"
            ]
          },
          "metadata": {},
          "execution_count": 20
        },
        {
          "output_type": "display_data",
          "data": {
            "text/plain": [
              "<Figure size 432x288 with 1 Axes>"
            ],
            "image/png": "[encoded data removed]"
          },
          "metadata": {
            "needs_background": "light"
          }
        }
      ]
    },
    {
      "cell_type": "code",
      "source": [
        "def plot_imgs(imgs, nrows=5, ncols=5):\n",
        "  fig, ax = plt.subplots(nrows, ncols, figsize=(nrows*5, ncols*3))\n",
        "  index = 0\n",
        "  for row in range(nrows):\n",
        "    for col in range(ncols):\n",
        "      img = matplotlib.image.imread(imgs[index][0])\n",
        "      ax[row][col].imshow(img)\n",
        "      ax[row][col].axis('off')\n",
        "      ax[row][col].set_title(imgs[index][1], fontsize=15)\n",
        "      index += 1"
      ],
      "metadata": {
        "id": "EdGiBJhu8bWQ"
      },
      "execution_count": null,
      "outputs": []
    },
    {
      "cell_type": "code",
      "source": [
        "def rand_imgs(original, img_folder=path, count=25):\n",
        "  rand_imgs = []\n",
        "  categories = original.classes\n",
        "  for cat in categories:\n",
        "    folder_path = f\"{img_folder}/{cat}\"\n",
        "    imgs_list = os.listdir(folder_path)\n",
        "    selected_imgs = np.random.choice(imgs_list, count//len(categories))\n",
        "    rand_imgs.extend([(f'{folder_path}/{img_path}', cat) for img_path in selected_imgs])\n",
        "  np.random.shuffle(rand_imgs)\n",
        "  return rand_imgs"
      ],
      "metadata": {
        "id": "31Bc5XAR8ed2"
      },
      "execution_count": null,
      "outputs": []
    },
    {
      "cell_type": "code",
      "source": [
        "my_imgs = rand_imgs(original, path, 15)"
      ],
      "metadata": {
        "id": "gpB74zRR8ebN"
      },
      "execution_count": null,
      "outputs": []
    },
    {
      "cell_type": "code",
      "source": [
        "plot_imgs(my_imgs, 5, 3)"
      ],
      "metadata": {
        "id": "gOrTDI708g3d"
      },
      "execution_count": null,
      "outputs": []
    },
    {
      "cell_type": "code",
      "source": [
        "def plot_batch(data_loader):\n",
        "  for imgs, labels in data_loader:\n",
        "    fig, ax = plt.subplots(figsize=(25, 25))\n",
        "    ax.imshow(torchvision.utils.make_grid(imgs[:60], nrow=10).permute(1, 2, 0))\n",
        "    ax.set_title('Augmented Images')\n",
        "    break"
      ],
      "metadata": {
        "id": "pcNCDEsr8inE"
      },
      "execution_count": null,
      "outputs": []
    },
    {
      "cell_type": "code",
      "source": [
        "plot_batch(data_loaders['train'])"
      ],
      "metadata": {
        "id": "0KsaSKoN8iji"
      },
      "execution_count": null,
      "outputs": []
    },
    {
      "cell_type": "code",
      "source": [
        "plot_batch(data_loaders['val'])"
      ],
      "metadata": {
        "id": "U_tu3Zo28iZ4"
      },
      "execution_count": null,
      "outputs": []
    },
    {
      "cell_type": "code",
      "source": [
        "plot_batch(data_loaders['test'])"
      ],
      "metadata": {
        "id": "ldoaOhZX8n7K"
      },
      "execution_count": null,
      "outputs": []
    },
    {
      "cell_type": "markdown",
      "source": [
        "# 4.Loss"
      ],
      "metadata": {
        "id": "PvZeiSKK8r7y"
      }
    },
    {
      "cell_type": "code",
      "source": [
        "device = torch.device(\"cuda\" if torch.cuda.is_available() else \"cpu\")\n",
        "device"
      ],
      "metadata": {
        "colab": {
          "base_uri": "https://localhost:8080/"
        },
        "id": "2ZhPOXBJNFFP",
        "outputId": "73307629-e877-413b-e712-9a199b6a5fb3"
      },
      "execution_count": 13,
      "outputs": [
        {
          "output_type": "execute_result",
          "data": {
            "text/plain": [
              "device(type='cuda', index=0)"
            ]
          },
          "metadata": {},
          "execution_count": 13
        }
      ]
    },
    {
      "cell_type": "code",
      "source": [
        "def accuracy(outputs, labels):\n",
        "  _, preds = torch.max(outputs, dim=1)\n",
        "  return torch.tensor(torch.sum(preds==labels).item()/len(preds)), preds"
      ],
      "metadata": {
        "id": "GLQemfWi8tFm"
      },
      "execution_count": 14,
      "outputs": []
    },
    {
      "cell_type": "code",
      "source": [
        "path2weights = '/content/models/'\n",
        "os.makedirs(path2weights, exist_ok=True)"
      ],
      "metadata": {
        "id": "AIP9-oOd8uS9"
      },
      "execution_count": 15,
      "outputs": []
    },
    {
      "cell_type": "code",
      "source": [
        "def get_lr(opt):\n",
        "  for param_group in opt.param_groups:\n",
        "    return param_group['lr']"
      ],
      "metadata": {
        "id": "WVqyy3O78uQ9"
      },
      "execution_count": 16,
      "outputs": []
    },
    {
      "cell_type": "code",
      "source": [
        "def loss_epoch(model, data_loader, criterion, optimizer, sanity_check, phase):\n",
        "  epoch_loss = 0.0\n",
        "  epoch_acc = 0.0\n",
        "\n",
        "  for input, labels in data_loader:\n",
        "    inputs = input.to(device)\n",
        "    labels = labels.to(device)\n",
        "  \n",
        "    with torch.set_grad_enabled(phase=='train'):\n",
        "      output = model(inputs)\n",
        "      loss = criterion(output, labels)\n",
        "      _, pred = torch.max(output, 1)\n",
        "#     pred = output.argmax(dim=1, keepdim=True)\n",
        "\n",
        "    if phase == 'train':\n",
        "      optimizer.zero_grad()\n",
        "      loss.backward()\n",
        "      optimizer.step()\n",
        "    \n",
        "    epoch_acc += pred.eq(labels.view_as(pred)).sum().item() / len(labels)\n",
        "    epoch_loss += loss.cpu().detach().numpy() / len(labels)\n",
        "        \n",
        "    if sanity_check:\n",
        "      break\n",
        "\n",
        "  return epoch_loss, epoch_acc"
      ],
      "metadata": {
        "id": "eNPG-53j8uOU"
      },
      "execution_count": 17,
      "outputs": []
    },
    {
      "cell_type": "code",
      "source": [
        "def train_val(model, params, requires_grad_param=False, trainable_layers=0):\n",
        "  \n",
        "  model_name = params['model_name']\n",
        "  num_epochs = params['epochs']\n",
        "  optimizer = params['optimizer']\n",
        "  criterion = params['criterion']\n",
        "  scheduler = params['scheduler']\n",
        "  data_loaders = params['data_loaders']\n",
        "  path2weights = params['path2weights']\n",
        "  sanity_check = params['sanity_check']\n",
        "    \n",
        "  #A dictionary to save Loss's history and accuracy's history\n",
        "  loss_history = {'train': [], 'val':[]}\n",
        "  accuracy_history = {'train': [], 'val':[]}\n",
        "  lr = [get_lr(optimizer)]\n",
        "    \n",
        "  #Unfreeze the model, with trainable_layers count\n",
        "  if requires_grad_param:\n",
        "      model_params_len = len(list(model.parameters()))\n",
        "      for i, param in enumerate(model.parameters()):\n",
        "        if model_params_len - i > trainable_layers:\n",
        "          param.requires_grad == requires_grad_param\n",
        "  \n",
        "  model.to(device) \n",
        "  best_accuracy = 0.0\n",
        "  best_loss = float('inf')\n",
        "  best_model = copy.deepcopy(model.state_dict())\n",
        "\n",
        "  for epoch in range(num_epochs):\n",
        "    \n",
        "    for phase in ['train', 'val']:\n",
        "      start = time.time()  \n",
        "      if phase == 'train':\n",
        "        model.train()\n",
        "      else:\n",
        "        model.eval()\n",
        "\n",
        "      epoch_loss, epoch_acc = loss_epoch(model, data_loaders[phase], criterion, optimizer, sanity_check, phase)\n",
        "      loss_history[phase].append(epoch_loss)\n",
        "      accuracy_history[phase].append(epoch_acc)\n",
        "\n",
        "      if epoch_loss < best_loss:\n",
        "        best_loss = epoch_loss\n",
        "        best_model = copy.deepcopy(model.state_dict())\n",
        "        torch.save(best_model, f'{model_name}_wts.h5')\n",
        "#         print(f'The best Model has been saved with loss: {best_loss:.3f}!!!')\n",
        "\n",
        "\n",
        "      if phase == 'val':\n",
        "        scheduler.step(epoch_loss)\n",
        "        if lr[-1] != get_lr(optimizer):\n",
        "  #         print('loading best model weights')\n",
        "          model.load_state_dict(best_model)\n",
        "\n",
        "      during = time.time() - start\n",
        "      print(f'{phase.upper()} ===> Time: {during//60}m {during%60:.2f}s')\n",
        "    \n",
        "    print(f\"Epoch: {epoch+1}/{num_epochs}, Train Loss: {loss_history['train'][-1]:.4f}, Train Accuracy: %{accuracy_history['train'][-1]:.3f}, Val Loss: {loss_history['val'][-1]:.4f}, Val Accuracy: %{accuracy_history['val'][-1]:.4f}\")\n",
        "    print('======'*5)\n",
        "        \n",
        "  model.load_state_dict(best_model)        \n",
        "  return model, loss_history, accuracy_history"
      ],
      "metadata": {
        "id": "XVNyoYqX80oJ"
      },
      "execution_count": 18,
      "outputs": []
    },
    {
      "cell_type": "code",
      "source": [
        "def plot_history(hist, loss='True'):\n",
        "  title = 'loss' if loss else 'accuracy'\n",
        "  plt.plot(hist[f'train'])\n",
        "  plt.plot(hist[f'val'])\n",
        "  plt.title(f'Model {title}')\n",
        "  plt.ylabel(f'{title}')\n",
        "  plt.xlabel('Epochs')\n",
        "  plt.legend(['train', 'test'])\n",
        "  plt.show()"
      ],
      "metadata": {
        "id": "8evPpYxvFJ_J"
      },
      "execution_count": 19,
      "outputs": []
    },
    {
      "cell_type": "markdown",
      "source": [
        "# 5.Models"
      ],
      "metadata": {
        "id": "jUxIWPzX832e"
      }
    },
    {
      "cell_type": "markdown",
      "source": [
        "##### sanity_check is used in the model's train function to determin if we want to train the model by all the dataset or just one batch from a dataset is enough for our training because we only want to check if the model is working correctly or not?\n",
        "#### sanity_check == True   ====> Use the whole dataset\n",
        "#### sanity_check == False   ====> Use only one batch of the dataset"
      ],
      "metadata": {
        "id": "_cRPx7aGEnbI"
      }
    },
    {
      "cell_type": "code",
      "source": [
        "sanity_check = False"
      ],
      "metadata": {
        "id": "RVyF2h2bEn1y"
      },
      "execution_count": 20,
      "outputs": []
    },
    {
      "cell_type": "markdown",
      "source": [
        "## VGG16"
      ],
      "metadata": {
        "id": "T-qbsawvYipS"
      }
    },
    {
      "cell_type": "code",
      "source": [
        "vgg16 = torchvision.models.vgg16(pretrained=True)\n",
        "\n",
        "for param in vgg16.parameters():\n",
        "    param.requires_grad = False\n",
        "\n",
        "vgg16.classifier[6] = torch.nn.Linear(in_features=vgg16.classifier[6].in_features,\n",
        "                                  out_features=len(original.classes), \n",
        "                                  bias=True)"
      ],
      "metadata": {
        "id": "Kh790ETY80lU",
        "colab": {
          "base_uri": "https://localhost:8080/",
          "height": 156,
          "referenced_widgets": [
            "81f4b7897924417888d5a03c780a8ea4",
            "37b0c2f86ff141a085cab546e89d78c8",
            "e924c38777af4380ab4e2e3b5ea46044",
            "34559af7c09a4adf8bae724708990143",
            "57c9bfab7a4c420c88024e9b8618e0c3",
            "43bfc29a38294a0f8d027d0238801a92",
            "0ceac3c8b3d04980a006f8af59245741",
            "86860d7806ec4462bab2e2807116a172",
            "469595efad604e1881ea5d415563dfee",
            "c07a5db842a048b1bab869a98d3927b8",
            "206eba908c594b659dd0fbae2473abbd"
          ]
        },
        "outputId": "8ec03886-fd5a-4f1b-b50e-eff22fa8e460"
      },
      "execution_count": 21,
      "outputs": [
        {
          "output_type": "stream",
          "name": "stderr",
          "text": [
            "/usr/local/lib/python3.7/dist-packages/torchvision/models/_utils.py:209: UserWarning: The parameter 'pretrained' is deprecated since 0.13 and will be removed in 0.15, please use 'weights' instead.\n",
            "  f\"The parameter '{pretrained_param}' is deprecated since 0.13 and will be removed in 0.15, \"\n",
            "/usr/local/lib/python3.7/dist-packages/torchvision/models/_utils.py:223: UserWarning: Arguments other than a weight enum or `None` for 'weights' are deprecated since 0.13 and will be removed in 0.15. The current behavior is equivalent to passing `weights=VGG16_Weights.IMAGENET1K_V1`. You can also use `weights=VGG16_Weights.DEFAULT` to get the most up-to-date weights.\n",
            "  warnings.warn(msg)\n",
            "Downloading: \"https://download.pytorch.org/models/vgg16-397923af.pth\" to /root/.cache/torch/hub/checkpoints/vgg16-397923af.pth\n"
          ]
        },
        {
          "output_type": "display_data",
          "data": {
            "text/plain": [
              "  0%|          | 0.00/528M [00:00<?, ?B/s]"
            ],
            "application/vnd.jupyter.widget-view+json": {
              "version_major": 2,
              "version_minor": 0,
              "model_id": "81f4b7897924417888d5a03c780a8ea4"
            }
          },
          "metadata": {}
        }
      ]
    },
    {
      "cell_type": "code",
      "source": [
        "optimizer_vgg16 = torch.optim.Adam(vgg16.classifier.parameters(), lr=1e-4, betas=(0.9, 0.999), eps=1e-8, weight_decay=0)\n",
        "scheduler_vgg16 = torch.optim.lr_scheduler.ReduceLROnPlateau(optimizer_vgg16, mode='max', patience=3, verbose=1)\n",
        "epochs = 50\n",
        "batch_size = 32\n",
        "params_vgg16 = {\n",
        "    'epochs': epochs,\n",
        "    'model_name': 'vgg16',\n",
        "    'data_loaders': data_loaders,\n",
        "    'criterion': torch.nn.CrossEntropyLoss(),\n",
        "    'optimizer': optimizer_vgg16,\n",
        "    'scheduler': scheduler_vgg16,\n",
        "    'path2weights': path2weights,\n",
        "    'sanity_check': sanity_check\n",
        "}"
      ],
      "metadata": {
        "id": "HmX0kTNd_m9S"
      },
      "execution_count": 22,
      "outputs": []
    },
    {
      "cell_type": "markdown",
      "source": [
        "## VGG19"
      ],
      "metadata": {
        "id": "lK6qlnOUYjmE"
      }
    },
    {
      "cell_type": "code",
      "source": [
        "vgg19_bn = torchvision.models.vgg19_bn(pretrained=True)\n",
        "\n",
        "for param in vgg19_bn.parameters():\n",
        "    param.requires_grad = False\n",
        "\n",
        "vgg19_bn.classifier[6] = torch.nn.Linear(in_features=vgg19_bn.classifier[6].in_features,\n",
        "                                  out_features=len(original.classes), \n",
        "                                  bias=True)"
      ],
      "metadata": {
        "id": "R8w9L67qYlXR",
        "colab": {
          "base_uri": "https://localhost:8080/",
          "height": 0,
          "referenced_widgets": [
            "086b1e51e5934d4da2e6a5a889eda558",
            "00a1bcc78be445bab21cf3d85d33fc31",
            "536dca0260c444128484fc99e3d9c468",
            "e7053db6e3ea4f14814961fe48b7fc8f",
            "db73bc63f7814410811d848dbeacf9f4",
            "8fe864cb10b1413892af891e78e114e4",
            "b0e39134e665447f95f5e0a17a3b1785",
            "9a3c73a7e35c4d068578b194e55dee35",
            "539b48a97a7c4096950d083c430475df",
            "f5f14e55d82e4b33abc80bbe30e4181f",
            "3a392c37d2e149e28a13931fedad4e55"
          ]
        },
        "outputId": "5ea1daa7-aece-4596-b747-4e6885e6c5d4"
      },
      "execution_count": 26,
      "outputs": [
        {
          "output_type": "stream",
          "name": "stderr",
          "text": [
            "/usr/local/lib/python3.7/dist-packages/torchvision/models/_utils.py:209: UserWarning: The parameter 'pretrained' is deprecated since 0.13 and will be removed in 0.15, please use 'weights' instead.\n",
            "  f\"The parameter '{pretrained_param}' is deprecated since 0.13 and will be removed in 0.15, \"\n",
            "/usr/local/lib/python3.7/dist-packages/torchvision/models/_utils.py:223: UserWarning: Arguments other than a weight enum or `None` for 'weights' are deprecated since 0.13 and will be removed in 0.15. The current behavior is equivalent to passing `weights=VGG19_BN_Weights.IMAGENET1K_V1`. You can also use `weights=VGG19_BN_Weights.DEFAULT` to get the most up-to-date weights.\n",
            "  warnings.warn(msg)\n",
            "Downloading: \"https://download.pytorch.org/models/vgg19_bn-c79401a0.pth\" to /root/.cache/torch/hub/checkpoints/vgg19_bn-c79401a0.pth\n"
          ]
        },
        {
          "output_type": "display_data",
          "data": {
            "text/plain": [
              "  0%|          | 0.00/548M [00:00<?, ?B/s]"
            ],
            "application/vnd.jupyter.widget-view+json": {
              "version_major": 2,
              "version_minor": 0,
              "model_id": "086b1e51e5934d4da2e6a5a889eda558"
            }
          },
          "metadata": {}
        }
      ]
    },
    {
      "cell_type": "code",
      "source": [
        "optimizer_vgg19_bn = torch.optim.Adam(vgg19_bn.classifier.parameters(), lr=0.001, betas=(0.9, 0.999), eps=1e-8, weight_decay=0)\n",
        "scheduler_vgg19_bn= torch.optim.lr_scheduler.ReduceLROnPlateau(optimizer_vgg19_bn, mode='max', patience=3, verbose=1)\n",
        "epochs = 20\n",
        "batch_size = 32\n",
        "vgg19_bn_params = {\n",
        "    'epochs': epochs,\n",
        "    'model_name': 'vgg19_bn',\n",
        "    'data_loaders': data_loaders,\n",
        "    'criterion': torch.nn.CrossEntropyLoss(),\n",
        "    'optimizer': optimizer_vgg19_bn,\n",
        "    'scheduler': scheduler_vgg19_bn,\n",
        "    'path2weights': path2weights,\n",
        "    'sanity_check': sanity_check\n",
        "}"
      ],
      "metadata": {
        "id": "5BmKpPRyYllZ"
      },
      "execution_count": 27,
      "outputs": []
    },
    {
      "cell_type": "markdown",
      "source": [
        "## GoogleNet"
      ],
      "metadata": {
        "id": "7dOds-ENZD4T"
      }
    },
    {
      "cell_type": "code",
      "source": [
        "googlenet = torchvision.models.googlenet(pretrained=True)\n",
        "\n",
        "for param in googlenet.parameters():\n",
        "    param.requires_grad = False\n",
        "\n",
        "    \n",
        "googlenet.fc = torch.nn.Linear(in_features=googlenet.fc.in_features,\n",
        "                                  out_features=len(original.classes), \n",
        "                                  bias=True)"
      ],
      "metadata": {
        "id": "je234AKcYqra",
        "colab": {
          "base_uri": "https://localhost:8080/"
        },
        "outputId": "c2502ba1-9bf4-4327-bc36-fa062b2ad45e"
      },
      "execution_count": null,
      "outputs": [
        {
          "output_type": "stream",
          "name": "stderr",
          "text": [
            "/usr/local/lib/python3.7/dist-packages/torchvision/models/_utils.py:209: UserWarning: The parameter 'pretrained' is deprecated since 0.13 and will be removed in 0.15, please use 'weights' instead.\n",
            "  f\"The parameter '{pretrained_param}' is deprecated since 0.13 and will be removed in 0.15, \"\n",
            "/usr/local/lib/python3.7/dist-packages/torchvision/models/_utils.py:223: UserWarning: Arguments other than a weight enum or `None` for 'weights' are deprecated since 0.13 and will be removed in 0.15. The current behavior is equivalent to passing `weights=Inception_V3_Weights.IMAGENET1K_V1`. You can also use `weights=Inception_V3_Weights.DEFAULT` to get the most up-to-date weights.\n",
            "  warnings.warn(msg)\n"
          ]
        }
      ]
    },
    {
      "cell_type": "code",
      "source": [
        "optimizer_googlenet = torch.optim.Adam(googlenet.fc.parameters(), lr=1e-4, betas=(0.9, 0.999), eps=1e-8, weight_decay=0)\n",
        "scheduler_googlenet = torch.optim.lr_scheduler.ReduceLROnPlateau(optimizer_googlenet, mode='max', patience=3, verbose=1)\n",
        "epochs = 50\n",
        "batch_size = 32\n",
        "googlenet_params = {\n",
        "    'epochs': epochs,\n",
        "    'model_name': 'googlenet',\n",
        "    'data_loaders': data_loaders,\n",
        "    'criterion': torch.nn.CrossEntropyLoss(),\n",
        "    'optimizer': optimizer_googlenet,\n",
        "    'scheduler': scheduler_googlenet,\n",
        "    'path2weights': path2weights,\n",
        "    'sanity_check': sanity_check\n",
        "}"
      ],
      "metadata": {
        "id": "qEHPzd-5aB8W"
      },
      "execution_count": null,
      "outputs": []
    },
    {
      "cell_type": "markdown",
      "source": [
        "## ResNet50"
      ],
      "metadata": {
        "id": "j7zgXlvXaUFZ"
      }
    },
    {
      "cell_type": "code",
      "source": [
        "resnet50 = torchvision.models.resnet50(pretrained=True)\n",
        "\n",
        "for param in resnet50.parameters():\n",
        "    param.requires_grad = False\n",
        "\n",
        "resnet50.fc = torch.nn.Linear(in_features=resnet50.fc.in_features,\n",
        "                                  out_features=len(original.classes), \n",
        "                                  bias=True)"
      ],
      "metadata": {
        "id": "Q73jlWsUaHh1",
        "colab": {
          "base_uri": "https://localhost:8080/"
        },
        "outputId": "f2747faa-37b3-4256-ec6f-42a3bd400121"
      },
      "execution_count": null,
      "outputs": [
        {
          "output_type": "stream",
          "name": "stderr",
          "text": [
            "/usr/local/lib/python3.7/dist-packages/torchvision/models/_utils.py:209: UserWarning: The parameter 'pretrained' is deprecated since 0.13 and will be removed in 0.15, please use 'weights' instead.\n",
            "  f\"The parameter '{pretrained_param}' is deprecated since 0.13 and will be removed in 0.15, \"\n",
            "/usr/local/lib/python3.7/dist-packages/torchvision/models/_utils.py:223: UserWarning: Arguments other than a weight enum or `None` for 'weights' are deprecated since 0.13 and will be removed in 0.15. The current behavior is equivalent to passing `weights=ResNet50_Weights.IMAGENET1K_V1`. You can also use `weights=ResNet50_Weights.DEFAULT` to get the most up-to-date weights.\n",
            "  warnings.warn(msg)\n"
          ]
        }
      ]
    },
    {
      "cell_type": "code",
      "source": [
        "optimizer_resnet50 = torch.optim.Adam(resnet50.fc.parameters(), lr=1e-4, betas=(0.9, 0.999), eps=1e-8, weight_decay=0)\n",
        "scheduler_resnet50 = torch.optim.lr_scheduler.ReduceLROnPlateau(optimizer_resnet50, mode='max', patience=3, verbose=1)\n",
        "epochs = 50\n",
        "batch_size = 32\n",
        "resnet50_params = {\n",
        "    'epochs': epochs,\n",
        "    'model_name': 'resnet50',\n",
        "    'data_loaders': data_loaders,\n",
        "    'criterion': torch.nn.CrossEntropyLoss(),\n",
        "    'optimizer': optimizer_resnet50,\n",
        "    'scheduler': scheduler_resnet50,\n",
        "    'path2weights': path2weights,\n",
        "    'sanity_check': sanity_check\n",
        "}"
      ],
      "metadata": {
        "id": "h2tWsJ38bFzN"
      },
      "execution_count": null,
      "outputs": []
    },
    {
      "cell_type": "markdown",
      "source": [
        "## EfficientNet B2"
      ],
      "metadata": {
        "id": "wWw4Nu42bwXV"
      }
    },
    {
      "cell_type": "code",
      "source": [
        "efficientnetb2 = torchvision.models.efficientnet_b2(pretrained=True)\n",
        "\n",
        "for param in efficientnetb2.parameters():\n",
        "    param.requires_grad = False\n",
        "\n",
        "efficientnetb2.classifier = torch.nn.Linear(in_features=efficientnetb2.classifier[1].in_features,\n",
        "                                  out_features=len(original.classes), \n",
        "                                  bias=True)"
      ],
      "metadata": {
        "id": "UcD9rAlsbx8Q"
      },
      "execution_count": null,
      "outputs": []
    },
    {
      "cell_type": "code",
      "source": [
        "optimizer_efficientnetb2 = torch.optim.Adam(efficientnetb2.classifier.parameters(), lr=1e-4, betas=(0.9, 0.999), eps=1e-8, weight_decay=0)\n",
        "scheduler_efficientnetb2 = torch.optim.lr_scheduler.ReduceLROnPlateau(optimizer_efficientnetb2, mode='max', patience=3, verbose=1)\n",
        "epochs = 50\n",
        "batch_size = 32\n",
        "efficientnetb2_params = {\n",
        "    'epochs': epochs,\n",
        "    'model_name': 'efficientnetb2',\n",
        "    'data_loaders': data_loaders,\n",
        "    'criterion': torch.nn.CrossEntropyLoss(),\n",
        "    'optimizer': optimizer_efficientnetb2,\n",
        "    'scheduler': scheduler_efficientnetb2,\n",
        "    'path2weights': path2weights,\n",
        "    'sanity_check': sanity_check\n",
        "}"
      ],
      "metadata": {
        "id": "rxnsMkDPcc7_"
      },
      "execution_count": null,
      "outputs": []
    },
    {
      "cell_type": "markdown",
      "source": [
        "# 6.Training"
      ],
      "metadata": {
        "id": "uf2QWwRtRPzh"
      }
    },
    {
      "cell_type": "markdown",
      "source": [
        "#### vgg16"
      ],
      "metadata": {
        "id": "XCehPDdk5BhW"
      }
    },
    {
      "cell_type": "code",
      "source": [
        "model, loss_history, accuracy_history = train_val(vgg16, params_vgg16, requires_grad_param=False, trainable_layers=0)"
      ],
      "metadata": {
        "id": "YI22JSRWQhpf",
        "colab": {
          "base_uri": "https://localhost:8080/"
        },
        "outputId": "f390884f-7320-46ad-cf2c-c3ae6660dbbd"
      },
      "execution_count": 23,
      "outputs": [
        {
          "output_type": "stream",
          "name": "stdout",
          "text": [
            "TRAIN ===> Time: 0.0m 24.32s\n",
            "VAL ===> Time: 0.0m 6.14s\n",
            "Epoch: 1/50, Train Loss: 3.8799, Train Accuracy: %62.418, Val Loss: 0.6957, Val Accuracy: %20.6562\n",
            "==============================\n",
            "TRAIN ===> Time: 0.0m 15.49s\n",
            "VAL ===> Time: 0.0m 6.06s\n",
            "Epoch: 2/50, Train Loss: 2.4661, Train Accuracy: %83.640, Val Loss: 0.5356, Val Accuracy: %21.8438\n",
            "==============================\n",
            "TRAIN ===> Time: 0.0m 15.61s\n",
            "VAL ===> Time: 0.0m 6.18s\n",
            "Epoch: 3/50, Train Loss: 2.0494, Train Accuracy: %87.206, Val Loss: 0.4698, Val Accuracy: %22.4375\n",
            "==============================\n",
            "TRAIN ===> Time: 0.0m 15.71s\n",
            "VAL ===> Time: 0.0m 6.14s\n",
            "Epoch: 4/50, Train Loss: 1.8495, Train Accuracy: %88.487, Val Loss: 0.4302, Val Accuracy: %22.5312\n",
            "==============================\n",
            "TRAIN ===> Time: 0.0m 15.74s\n",
            "Epoch 00005: reducing learning rate of group 0 to 1.0000e-05.\n",
            "VAL ===> Time: 0.0m 6.21s\n",
            "Epoch: 5/50, Train Loss: 1.7036, Train Accuracy: %89.990, Val Loss: 0.4034, Val Accuracy: %22.7812\n",
            "==============================\n",
            "TRAIN ===> Time: 0.0m 15.84s\n",
            "VAL ===> Time: 0.0m 6.25s\n",
            "Epoch: 6/50, Train Loss: 1.6305, Train Accuracy: %91.143, Val Loss: 0.4001, Val Accuracy: %22.7500\n",
            "==============================\n",
            "TRAIN ===> Time: 0.0m 16.01s\n",
            "VAL ===> Time: 0.0m 6.35s\n",
            "Epoch: 7/50, Train Loss: 1.6145, Train Accuracy: %90.897, Val Loss: 0.3978, Val Accuracy: %22.7812\n",
            "==============================\n",
            "TRAIN ===> Time: 0.0m 16.09s\n",
            "VAL ===> Time: 0.0m 6.38s\n",
            "Epoch: 8/50, Train Loss: 1.5993, Train Accuracy: %91.306, Val Loss: 0.3955, Val Accuracy: %22.8125\n",
            "==============================\n",
            "TRAIN ===> Time: 0.0m 16.18s\n",
            "Epoch 00009: reducing learning rate of group 0 to 1.0000e-06.\n",
            "VAL ===> Time: 0.0m 6.40s\n",
            "Epoch: 9/50, Train Loss: 1.6302, Train Accuracy: %89.928, Val Loss: 0.3938, Val Accuracy: %22.7812\n",
            "==============================\n",
            "TRAIN ===> Time: 0.0m 16.11s\n",
            "VAL ===> Time: 0.0m 6.41s\n",
            "Epoch: 10/50, Train Loss: 1.6315, Train Accuracy: %90.481, Val Loss: 0.3936, Val Accuracy: %22.8125\n",
            "==============================\n",
            "TRAIN ===> Time: 0.0m 16.27s\n",
            "VAL ===> Time: 0.0m 6.52s\n",
            "Epoch: 11/50, Train Loss: 1.5974, Train Accuracy: %91.484, Val Loss: 0.3933, Val Accuracy: %22.8125\n",
            "==============================\n",
            "TRAIN ===> Time: 0.0m 16.46s\n",
            "VAL ===> Time: 0.0m 6.66s\n",
            "Epoch: 12/50, Train Loss: 1.6005, Train Accuracy: %90.862, Val Loss: 0.3931, Val Accuracy: %22.7812\n",
            "==============================\n",
            "TRAIN ===> Time: 0.0m 16.36s\n",
            "Epoch 00013: reducing learning rate of group 0 to 1.0000e-07.\n",
            "VAL ===> Time: 0.0m 6.61s\n",
            "Epoch: 13/50, Train Loss: 1.6076, Train Accuracy: %91.112, Val Loss: 0.3928, Val Accuracy: %22.7812\n",
            "==============================\n",
            "TRAIN ===> Time: 0.0m 16.43s\n",
            "VAL ===> Time: 0.0m 6.52s\n",
            "Epoch: 14/50, Train Loss: 1.5866, Train Accuracy: %90.800, Val Loss: 0.3928, Val Accuracy: %22.7812\n",
            "==============================\n",
            "TRAIN ===> Time: 0.0m 16.60s\n",
            "VAL ===> Time: 0.0m 6.59s\n",
            "Epoch: 15/50, Train Loss: 1.5862, Train Accuracy: %91.046, Val Loss: 0.3928, Val Accuracy: %22.7812\n",
            "==============================\n",
            "TRAIN ===> Time: 0.0m 16.68s\n",
            "VAL ===> Time: 0.0m 6.78s\n",
            "Epoch: 16/50, Train Loss: 1.5743, Train Accuracy: %90.925, Val Loss: 0.3928, Val Accuracy: %22.7812\n",
            "==============================\n",
            "TRAIN ===> Time: 0.0m 16.78s\n",
            "Epoch 00017: reducing learning rate of group 0 to 1.0000e-08.\n",
            "VAL ===> Time: 0.0m 6.60s\n",
            "Epoch: 17/50, Train Loss: 1.6082, Train Accuracy: %91.337, Val Loss: 0.3927, Val Accuracy: %22.7812\n",
            "==============================\n",
            "TRAIN ===> Time: 0.0m 16.75s\n",
            "VAL ===> Time: 0.0m 6.69s\n",
            "Epoch: 18/50, Train Loss: 1.6083, Train Accuracy: %91.150, Val Loss: 0.3927, Val Accuracy: %22.7812\n",
            "==============================\n",
            "TRAIN ===> Time: 0.0m 16.75s\n",
            "VAL ===> Time: 0.0m 6.66s\n",
            "Epoch: 19/50, Train Loss: 1.6037, Train Accuracy: %90.834, Val Loss: 0.3927, Val Accuracy: %22.7812\n",
            "==============================\n",
            "TRAIN ===> Time: 0.0m 16.72s\n",
            "VAL ===> Time: 0.0m 6.64s\n",
            "Epoch: 20/50, Train Loss: 1.6029, Train Accuracy: %90.487, Val Loss: 0.3927, Val Accuracy: %22.7812\n",
            "==============================\n",
            "TRAIN ===> Time: 0.0m 16.71s\n",
            "VAL ===> Time: 0.0m 6.65s\n",
            "Epoch: 21/50, Train Loss: 1.6159, Train Accuracy: %90.772, Val Loss: 0.3927, Val Accuracy: %22.7812\n",
            "==============================\n",
            "TRAIN ===> Time: 0.0m 16.93s\n",
            "VAL ===> Time: 0.0m 6.70s\n",
            "Epoch: 22/50, Train Loss: 1.6045, Train Accuracy: %90.925, Val Loss: 0.3927, Val Accuracy: %22.7812\n",
            "==============================\n",
            "TRAIN ===> Time: 0.0m 16.85s\n",
            "VAL ===> Time: 0.0m 6.77s\n",
            "Epoch: 23/50, Train Loss: 1.6153, Train Accuracy: %90.484, Val Loss: 0.3927, Val Accuracy: %22.7812\n",
            "==============================\n",
            "TRAIN ===> Time: 0.0m 16.89s\n",
            "VAL ===> Time: 0.0m 6.70s\n",
            "Epoch: 24/50, Train Loss: 1.5821, Train Accuracy: %91.737, Val Loss: 0.3927, Val Accuracy: %22.7812\n",
            "==============================\n",
            "TRAIN ===> Time: 0.0m 16.81s\n",
            "VAL ===> Time: 0.0m 6.77s\n",
            "Epoch: 25/50, Train Loss: 1.6130, Train Accuracy: %90.897, Val Loss: 0.3927, Val Accuracy: %22.7812\n",
            "==============================\n",
            "TRAIN ===> Time: 0.0m 16.76s\n",
            "VAL ===> Time: 0.0m 7.04s\n",
            "Epoch: 26/50, Train Loss: 1.5909, Train Accuracy: %90.703, Val Loss: 0.3927, Val Accuracy: %22.7812\n",
            "==============================\n",
            "TRAIN ===> Time: 0.0m 16.80s\n",
            "VAL ===> Time: 0.0m 6.71s\n",
            "Epoch: 27/50, Train Loss: 1.6117, Train Accuracy: %90.397, Val Loss: 0.3927, Val Accuracy: %22.7812\n",
            "==============================\n",
            "TRAIN ===> Time: 0.0m 16.78s\n",
            "VAL ===> Time: 0.0m 6.79s\n",
            "Epoch: 28/50, Train Loss: 1.6292, Train Accuracy: %90.306, Val Loss: 0.3927, Val Accuracy: %22.7812\n",
            "==============================\n",
            "TRAIN ===> Time: 0.0m 16.76s\n",
            "VAL ===> Time: 0.0m 6.75s\n",
            "Epoch: 29/50, Train Loss: 1.5978, Train Accuracy: %91.175, Val Loss: 0.3927, Val Accuracy: %22.7812\n",
            "==============================\n",
            "TRAIN ===> Time: 0.0m 16.81s\n",
            "VAL ===> Time: 0.0m 6.78s\n",
            "Epoch: 30/50, Train Loss: 1.6084, Train Accuracy: %91.309, Val Loss: 0.3927, Val Accuracy: %22.7812\n",
            "==============================\n",
            "TRAIN ===> Time: 0.0m 16.91s\n",
            "VAL ===> Time: 0.0m 6.82s\n",
            "Epoch: 31/50, Train Loss: 1.6076, Train Accuracy: %90.806, Val Loss: 0.3927, Val Accuracy: %22.7812\n",
            "==============================\n",
            "TRAIN ===> Time: 0.0m 16.80s\n",
            "VAL ===> Time: 0.0m 6.77s\n",
            "Epoch: 32/50, Train Loss: 1.6010, Train Accuracy: %91.522, Val Loss: 0.3927, Val Accuracy: %22.7812\n",
            "==============================\n",
            "TRAIN ===> Time: 0.0m 16.93s\n",
            "VAL ===> Time: 0.0m 6.78s\n",
            "Epoch: 33/50, Train Loss: 1.5963, Train Accuracy: %91.328, Val Loss: 0.3927, Val Accuracy: %22.7812\n",
            "==============================\n",
            "TRAIN ===> Time: 0.0m 16.78s\n",
            "VAL ===> Time: 0.0m 6.81s\n",
            "Epoch: 34/50, Train Loss: 1.6054, Train Accuracy: %90.393, Val Loss: 0.3927, Val Accuracy: %22.7812\n",
            "==============================\n",
            "TRAIN ===> Time: 0.0m 16.81s\n",
            "VAL ===> Time: 0.0m 6.75s\n",
            "Epoch: 35/50, Train Loss: 1.6045, Train Accuracy: %90.865, Val Loss: 0.3927, Val Accuracy: %22.7812\n",
            "==============================\n",
            "TRAIN ===> Time: 0.0m 17.01s\n",
            "VAL ===> Time: 0.0m 6.70s\n",
            "Epoch: 36/50, Train Loss: 1.5931, Train Accuracy: %91.362, Val Loss: 0.3927, Val Accuracy: %22.7812\n",
            "==============================\n",
            "TRAIN ===> Time: 0.0m 16.90s\n",
            "VAL ===> Time: 0.0m 6.73s\n",
            "Epoch: 37/50, Train Loss: 1.5674, Train Accuracy: %91.619, Val Loss: 0.3927, Val Accuracy: %22.7812\n",
            "==============================\n",
            "TRAIN ===> Time: 0.0m 16.83s\n",
            "VAL ===> Time: 0.0m 6.72s\n",
            "Epoch: 38/50, Train Loss: 1.5623, Train Accuracy: %91.553, Val Loss: 0.3927, Val Accuracy: %22.7812\n",
            "==============================\n",
            "TRAIN ===> Time: 0.0m 16.82s\n",
            "VAL ===> Time: 0.0m 6.73s\n",
            "Epoch: 39/50, Train Loss: 1.5904, Train Accuracy: %91.025, Val Loss: 0.3927, Val Accuracy: %22.7812\n",
            "==============================\n",
            "TRAIN ===> Time: 0.0m 16.83s\n",
            "VAL ===> Time: 0.0m 6.87s\n",
            "Epoch: 40/50, Train Loss: 1.5891, Train Accuracy: %91.487, Val Loss: 0.3927, Val Accuracy: %22.7812\n",
            "==============================\n",
            "TRAIN ===> Time: 0.0m 16.94s\n",
            "VAL ===> Time: 0.0m 6.75s\n",
            "Epoch: 41/50, Train Loss: 1.6095, Train Accuracy: %91.056, Val Loss: 0.3927, Val Accuracy: %22.7812\n",
            "==============================\n",
            "TRAIN ===> Time: 0.0m 16.83s\n",
            "VAL ===> Time: 0.0m 6.74s\n",
            "Epoch: 42/50, Train Loss: 1.5836, Train Accuracy: %91.650, Val Loss: 0.3927, Val Accuracy: %22.7812\n",
            "==============================\n",
            "TRAIN ===> Time: 0.0m 16.83s\n",
            "VAL ===> Time: 0.0m 6.77s\n",
            "Epoch: 43/50, Train Loss: 1.5959, Train Accuracy: %90.587, Val Loss: 0.3927, Val Accuracy: %22.7812\n",
            "==============================\n",
            "TRAIN ===> Time: 0.0m 16.80s\n",
            "VAL ===> Time: 0.0m 6.82s\n",
            "Epoch: 44/50, Train Loss: 1.5654, Train Accuracy: %91.337, Val Loss: 0.3927, Val Accuracy: %22.7812\n",
            "==============================\n",
            "TRAIN ===> Time: 0.0m 16.85s\n",
            "VAL ===> Time: 0.0m 7.33s\n",
            "Epoch: 45/50, Train Loss: 1.6017, Train Accuracy: %91.328, Val Loss: 0.3927, Val Accuracy: %22.7812\n",
            "==============================\n",
            "TRAIN ===> Time: 0.0m 16.78s\n",
            "VAL ===> Time: 0.0m 6.79s\n",
            "Epoch: 46/50, Train Loss: 1.5988, Train Accuracy: %91.178, Val Loss: 0.3927, Val Accuracy: %22.7812\n",
            "==============================\n",
            "TRAIN ===> Time: 0.0m 16.81s\n",
            "VAL ===> Time: 0.0m 6.75s\n",
            "Epoch: 47/50, Train Loss: 1.5727, Train Accuracy: %91.615, Val Loss: 0.3927, Val Accuracy: %22.7812\n",
            "==============================\n",
            "TRAIN ===> Time: 0.0m 16.81s\n",
            "VAL ===> Time: 0.0m 6.73s\n",
            "Epoch: 48/50, Train Loss: 1.5985, Train Accuracy: %91.550, Val Loss: 0.3927, Val Accuracy: %22.7812\n",
            "==============================\n",
            "TRAIN ===> Time: 0.0m 16.83s\n",
            "VAL ===> Time: 0.0m 6.71s\n",
            "Epoch: 49/50, Train Loss: 1.6140, Train Accuracy: %90.543, Val Loss: 0.3927, Val Accuracy: %22.7812\n",
            "==============================\n",
            "TRAIN ===> Time: 0.0m 16.97s\n",
            "VAL ===> Time: 0.0m 6.84s\n",
            "Epoch: 50/50, Train Loss: 1.5898, Train Accuracy: %91.459, Val Loss: 0.3927, Val Accuracy: %22.7812\n",
            "==============================\n"
          ]
        }
      ]
    },
    {
      "cell_type": "code",
      "source": [
        "plot_history(loss_history, loss='True')"
      ],
      "metadata": {
        "colab": {
          "base_uri": "https://localhost:8080/",
          "height": 295
        },
        "id": "R3_7CIFmGexK",
        "outputId": "ca70cd34-be0f-45fb-c7b2-77385db70f22"
      },
      "execution_count": 24,
      "outputs": [
        {
          "output_type": "display_data",
          "data": {
            "text/plain": [
              "<Figure size 432x288 with 1 Axes>"
            ],
            "image/png": "[encoded data removed]"
          },
          "metadata": {
            "needs_background": "light"
          }
        }
      ]
    },
    {
      "cell_type": "code",
      "source": [
        "plot_history(accuracy_history, loss='False')"
      ],
      "metadata": {
        "colab": {
          "base_uri": "https://localhost:8080/",
          "height": 295
        },
        "id": "QIc50FdGQUXw",
        "outputId": "756051c1-a8d5-497f-d7ca-11268c4dc03a"
      },
      "execution_count": 25,
      "outputs": [
        {
          "output_type": "display_data",
          "data": {
            "text/plain": [
              "<Figure size 432x288 with 1 Axes>"
            ],
            "image/png": "[encoded data removed]"
          },
          "metadata": {
            "needs_background": "light"
          }
        }
      ]
    },
    {
      "cell_type": "markdown",
      "source": [
        "#### vgg19"
      ],
      "metadata": {
        "id": "Y5mMawcD5FQH"
      }
    },
    {
      "cell_type": "code",
      "source": [
        "model, loss_history, accuracy_history = train_val(vgg19_bn, vgg19_bn_params, requires_grad_param=False, trainable_layers=0)"
      ],
      "metadata": {
        "colab": {
          "base_uri": "https://localhost:8080/"
        },
        "id": "vI29lOOPQVYQ",
        "outputId": "e26c6ddc-99f9-4028-99a3-821c4458f74b"
      },
      "execution_count": null,
      "outputs": [
        {
          "output_type": "stream",
          "name": "stdout",
          "text": [
            "TRAIN ===> Time: 0.0m 24.10s\n",
            "VAL ===> Time: 0.0m 7.57s\n",
            "Epoch: 1/20, Train Loss: 2.2170, Train Accuracy: %81.931, Val Loss: 0.3405, Val Accuracy: %23.0938\n",
            "==============================\n",
            "TRAIN ===> Time: 0.0m 21.77s\n",
            "VAL ===> Time: 0.0m 7.47s\n",
            "Epoch: 2/20, Train Loss: 1.5508, Train Accuracy: %90.087, Val Loss: 0.3139, Val Accuracy: %23.5312\n",
            "==============================\n",
            "TRAIN ===> Time: 0.0m 22.09s\n",
            "VAL ===> Time: 0.0m 7.50s\n",
            "Epoch: 3/20, Train Loss: 1.4153, Train Accuracy: %92.115, Val Loss: 0.3048, Val Accuracy: %23.5938\n",
            "==============================\n",
            "TRAIN ===> Time: 0.0m 22.33s\n",
            "VAL ===> Time: 0.0m 7.88s\n",
            "Epoch: 4/20, Train Loss: 1.2657, Train Accuracy: %93.369, Val Loss: 0.2896, Val Accuracy: %23.9062\n",
            "==============================\n",
            "TRAIN ===> Time: 0.0m 22.30s\n",
            "Epoch 00005: reducing learning rate of group 0 to 1.0000e-04.\n",
            "VAL ===> Time: 0.0m 5.37s\n",
            "Epoch: 5/20, Train Loss: 1.2434, Train Accuracy: %93.459, Val Loss: 0.2954, Val Accuracy: %23.9375\n",
            "==============================\n",
            "TRAIN ===> Time: 0.0m 22.27s\n",
            "VAL ===> Time: 0.0m 7.62s\n",
            "Epoch: 6/20, Train Loss: 1.1079, Train Accuracy: %95.397, Val Loss: 0.2874, Val Accuracy: %24.0000\n",
            "==============================\n",
            "TRAIN ===> Time: 0.0m 22.33s\n",
            "VAL ===> Time: 0.0m 7.65s\n",
            "Epoch: 7/20, Train Loss: 1.0915, Train Accuracy: %95.768, Val Loss: 0.2855, Val Accuracy: %24.1562\n",
            "==============================\n",
            "TRAIN ===> Time: 0.0m 22.43s\n",
            "VAL ===> Time: 0.0m 5.60s\n",
            "Epoch: 8/20, Train Loss: 1.0838, Train Accuracy: %95.390, Val Loss: 0.2858, Val Accuracy: %24.1250\n",
            "==============================\n",
            "TRAIN ===> Time: 0.0m 22.60s\n",
            "Epoch 00009: reducing learning rate of group 0 to 1.0000e-05.\n",
            "VAL ===> Time: 0.0m 7.77s\n",
            "Epoch: 9/20, Train Loss: 1.1374, Train Accuracy: %94.890, Val Loss: 0.2841, Val Accuracy: %24.1250\n",
            "==============================\n",
            "TRAIN ===> Time: 0.0m 22.73s\n",
            "VAL ===> Time: 0.0m 7.74s\n",
            "Epoch: 10/20, Train Loss: 1.0644, Train Accuracy: %95.737, Val Loss: 0.2838, Val Accuracy: %24.1562\n",
            "==============================\n",
            "TRAIN ===> Time: 0.0m 22.69s\n",
            "VAL ===> Time: 0.0m 7.89s\n",
            "Epoch: 11/20, Train Loss: 1.0824, Train Accuracy: %95.709, Val Loss: 0.2833, Val Accuracy: %24.1875\n",
            "==============================\n",
            "TRAIN ===> Time: 0.0m 22.75s\n",
            "VAL ===> Time: 0.0m 7.90s\n",
            "Epoch: 12/20, Train Loss: 1.1043, Train Accuracy: %94.956, Val Loss: 0.2829, Val Accuracy: %24.1875\n",
            "==============================\n",
            "TRAIN ===> Time: 0.0m 22.74s\n",
            "Epoch 00013: reducing learning rate of group 0 to 1.0000e-06.\n",
            "VAL ===> Time: 0.0m 7.87s\n",
            "Epoch: 13/20, Train Loss: 1.0920, Train Accuracy: %94.731, Val Loss: 0.2829, Val Accuracy: %24.1875\n",
            "==============================\n",
            "TRAIN ===> Time: 0.0m 22.69s\n",
            "VAL ===> Time: 0.0m 7.72s\n",
            "Epoch: 14/20, Train Loss: 1.0424, Train Accuracy: %96.334, Val Loss: 0.2829, Val Accuracy: %24.1875\n",
            "==============================\n",
            "TRAIN ===> Time: 0.0m 22.80s\n",
            "VAL ===> Time: 0.0m 5.51s\n",
            "Epoch: 15/20, Train Loss: 1.0919, Train Accuracy: %94.928, Val Loss: 0.2829, Val Accuracy: %24.1875\n",
            "==============================\n",
            "TRAIN ===> Time: 0.0m 22.85s\n",
            "VAL ===> Time: 0.0m 7.85s\n",
            "Epoch: 16/20, Train Loss: 1.1189, Train Accuracy: %95.334, Val Loss: 0.2828, Val Accuracy: %24.1875\n",
            "==============================\n",
            "TRAIN ===> Time: 0.0m 22.71s\n",
            "Epoch 00017: reducing learning rate of group 0 to 1.0000e-07.\n",
            "VAL ===> Time: 0.0m 7.78s\n",
            "Epoch: 17/20, Train Loss: 1.0796, Train Accuracy: %95.959, Val Loss: 0.2828, Val Accuracy: %24.1562\n",
            "==============================\n",
            "TRAIN ===> Time: 0.0m 22.81s\n",
            "VAL ===> Time: 0.0m 5.53s\n",
            "Epoch: 18/20, Train Loss: 1.0736, Train Accuracy: %96.081, Val Loss: 0.2828, Val Accuracy: %24.1562\n",
            "==============================\n",
            "TRAIN ===> Time: 0.0m 22.70s\n",
            "VAL ===> Time: 0.0m 5.50s\n",
            "Epoch: 19/20, Train Loss: 1.0824, Train Accuracy: %95.703, Val Loss: 0.2828, Val Accuracy: %24.1562\n",
            "==============================\n"
          ]
        }
      ]
    },
    {
      "cell_type": "code",
      "source": [
        "plot_history(loss_history, loss='True')"
      ],
      "metadata": {
        "colab": {
          "base_uri": "https://localhost:8080/",
          "height": 295
        },
        "id": "S5-unmUCQwCB",
        "outputId": "daf0e176-2d18-43bb-9581-426a17d9f774"
      },
      "execution_count": null,
      "outputs": [
        {
          "output_type": "display_data",
          "data": {
            "text/plain": [
              "<Figure size 432x288 with 1 Axes>"
            ],
            "image/png": "[encoded data removed]"
          },
          "metadata": {
            "needs_background": "light"
          }
        }
      ]
    },
    {
      "cell_type": "code",
      "source": [
        "plot_history(accuracy_history, loss='False')"
      ],
      "metadata": {
        "colab": {
          "base_uri": "https://localhost:8080/",
          "height": 295
        },
        "id": "QoQnRzFfVSip",
        "outputId": "13e35d01-9f06-41b5-e10e-a740f938f913"
      },
      "execution_count": null,
      "outputs": [
        {
          "output_type": "display_data",
          "data": {
            "text/plain": [
              "<Figure size 432x288 with 1 Axes>"
            ],
            "image/png": "[encoded data removed]"
          },
          "metadata": {
            "needs_background": "light"
          }
        }
      ]
    },
    {
      "cell_type": "markdown",
      "source": [
        "#### GoogleNet"
      ],
      "metadata": {
        "id": "_gYoVLnw5IRF"
      }
    },
    {
      "cell_type": "code",
      "source": [
        "model, loss_history, accuracy_history = train_val(googlenet, googlenet_params, requires_grad_param=False, trainable_layers=0)"
      ],
      "metadata": {
        "id": "KwpQBulpVT-c"
      },
      "execution_count": null,
      "outputs": []
    },
    {
      "cell_type": "code",
      "source": [
        "plot_history(loss_history, loss='True')"
      ],
      "metadata": {
        "id": "SKGbCH3Lxo-e"
      },
      "execution_count": null,
      "outputs": []
    },
    {
      "cell_type": "code",
      "source": [
        "plot_history(accuracy_history, loss='False')"
      ],
      "metadata": {
        "id": "pJkXbQmhxo70"
      },
      "execution_count": null,
      "outputs": []
    },
    {
      "cell_type": "markdown",
      "source": [
        "#### ResNet50"
      ],
      "metadata": {
        "id": "LSQM8Dkn5NTu"
      }
    },
    {
      "cell_type": "code",
      "source": [
        "model, loss_history, accuracy_history = train_val(resnet50, resnet50_params, requires_grad_param=False, trainable_layers=0)"
      ],
      "metadata": {
        "colab": {
          "base_uri": "https://localhost:8080/"
        },
        "id": "YKDNDhYXV17d",
        "outputId": "ccfc3196-ac65-4511-c143-55ae63766f16"
      },
      "execution_count": null,
      "outputs": [
        {
          "output_type": "stream",
          "name": "stdout",
          "text": [
            "TRAIN ===> Time: 0.0m 10.85s\n",
            "VAL ===> Time: 0.0m 2.82s\n",
            "Epoch: 1/10, Train Loss: 4.5211, Train Accuracy: %58.793, Val Loss: 0.8923, Val Accuracy: %19.7188\n",
            "==============================\n",
            "TRAIN ===> Time: 0.0m 10.65s\n",
            "VAL ===> Time: 0.0m 2.84s\n",
            "Epoch: 2/10, Train Loss: 3.1477, Train Accuracy: %83.112, Val Loss: 0.6633, Val Accuracy: %22.1875\n",
            "==============================\n",
            "TRAIN ===> Time: 0.0m 10.68s\n",
            "VAL ===> Time: 0.0m 2.85s\n",
            "Epoch: 3/10, Train Loss: 2.5112, Train Accuracy: %88.175, Val Loss: 0.5487, Val Accuracy: %22.7812\n",
            "==============================\n",
            "TRAIN ===> Time: 0.0m 10.73s\n",
            "VAL ===> Time: 0.0m 2.86s\n",
            "Epoch: 4/10, Train Loss: 2.1569, Train Accuracy: %89.959, Val Loss: 0.4814, Val Accuracy: %22.8750\n",
            "==============================\n",
            "TRAIN ===> Time: 0.0m 11.00s\n",
            "Epoch 00005: reducing learning rate of group 0 to 1.0000e-05.\n",
            "VAL ===> Time: 0.0m 2.90s\n",
            "Epoch: 5/10, Train Loss: 1.9299, Train Accuracy: %91.306, Val Loss: 0.4372, Val Accuracy: %23.0938\n",
            "==============================\n",
            "TRAIN ===> Time: 0.0m 10.83s\n",
            "VAL ===> Time: 0.0m 2.89s\n",
            "Epoch: 6/10, Train Loss: 1.8191, Train Accuracy: %92.025, Val Loss: 0.4257, Val Accuracy: %23.2500\n",
            "==============================\n",
            "TRAIN ===> Time: 0.0m 10.88s\n",
            "VAL ===> Time: 0.0m 2.92s\n",
            "Epoch: 7/10, Train Loss: 1.7947, Train Accuracy: %92.556, Val Loss: 0.4216, Val Accuracy: %23.2812\n",
            "==============================\n",
            "TRAIN ===> Time: 0.0m 11.10s\n",
            "VAL ===> Time: 0.0m 2.92s\n",
            "Epoch: 8/10, Train Loss: 1.7789, Train Accuracy: %92.650, Val Loss: 0.4180, Val Accuracy: %23.2812\n",
            "==============================\n",
            "TRAIN ===> Time: 0.0m 10.98s\n",
            "Epoch 00009: reducing learning rate of group 0 to 1.0000e-06.\n",
            "VAL ===> Time: 0.0m 2.93s\n",
            "Epoch: 9/10, Train Loss: 1.7636, Train Accuracy: %92.712, Val Loss: 0.4145, Val Accuracy: %23.2812\n",
            "==============================\n",
            "TRAIN ===> Time: 0.0m 11.00s\n",
            "VAL ===> Time: 0.0m 2.98s\n",
            "Epoch: 10/10, Train Loss: 1.7523, Train Accuracy: %92.712, Val Loss: 0.4142, Val Accuracy: %23.2812\n",
            "==============================\n"
          ]
        }
      ]
    },
    {
      "cell_type": "code",
      "source": [
        "plot_history(loss_history, loss='True')"
      ],
      "metadata": {
        "colab": {
          "base_uri": "https://localhost:8080/",
          "height": 295
        },
        "id": "2np9Rv9HZoc9",
        "outputId": "5faed081-f6f4-4f78-ee1f-5d3970628e85"
      },
      "execution_count": null,
      "outputs": [
        {
          "output_type": "display_data",
          "data": {
            "text/plain": [
              "<Figure size 432x288 with 1 Axes>"
            ],
            "image/png": "[encoded data removed]"
          },
          "metadata": {
            "needs_background": "light"
          }
        }
      ]
    },
    {
      "cell_type": "code",
      "source": [
        "plot_history(accuracy_history, loss='False')"
      ],
      "metadata": {
        "colab": {
          "base_uri": "https://localhost:8080/",
          "height": 295
        },
        "id": "T-JQNOLyejV3",
        "outputId": "08e4dd8c-e653-401f-a49d-b1a5ecca179c"
      },
      "execution_count": null,
      "outputs": [
        {
          "output_type": "display_data",
          "data": {
            "text/plain": [
              "<Figure size 432x288 with 1 Axes>"
            ],
            "image/png": "[encoded data removed]"
          },
          "metadata": {
            "needs_background": "light"
          }
        }
      ]
    },
    {
      "cell_type": "markdown",
      "source": [
        "#### EfficentNet B2"
      ],
      "metadata": {
        "id": "pUb8PDFb5s40"
      }
    },
    {
      "cell_type": "code",
      "source": [
        "model, loss_history, accuracy_history = train_val(efficientnetb2, efficientnetb2_params, requires_grad_param=False, trainable_layers=0)"
      ],
      "metadata": {
        "id": "Ei1-pasgelww"
      },
      "execution_count": null,
      "outputs": []
    },
    {
      "cell_type": "code",
      "source": [
        "plot_history(loss_history, loss='True')"
      ],
      "metadata": {
        "id": "mad_dRys50Aw"
      },
      "execution_count": null,
      "outputs": []
    },
    {
      "cell_type": "code",
      "source": [
        "plot_history(accuracy_history, loss='False')"
      ],
      "metadata": {
        "id": "Igs92NlU5z9o"
      },
      "execution_count": null,
      "outputs": []
    }
  ]
}