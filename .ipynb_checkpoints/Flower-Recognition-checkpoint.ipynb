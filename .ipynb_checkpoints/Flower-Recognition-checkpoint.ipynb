{
 "cells": [
  {
   "cell_type": "code",
   "execution_count": 2,
   "id": "8eb604da",
   "metadata": {},
   "outputs": [],
   "source": [
    "import os\n",
    "import cv2\n",
    "import zipfile\n",
    "import numpy as np\n",
    "import pandas as pd\n",
    "import matplotlib.pyplot as plt\n",
    "import tensorflow as tf\n",
    "from sklearn import preprocessing, model_selection"
   ]
  },
  {
   "cell_type": "code",
   "execution_count": 3,
   "id": "080b40d3",
   "metadata": {},
   "outputs": [],
   "source": [
    "data_path = './data/'\n",
    "if not os.path.exists(data_path):\n",
    "    os.makedirs(data_path, exist_ok=True)\n",
    "    with zipfile.ZipFile('archive.zip', 'r') as zip_f:\n",
    "        zip_f.extractall(data_path)"
   ]
  },
  {
   "cell_type": "code",
   "execution_count": 5,
   "id": "fd773e24",
   "metadata": {},
   "outputs": [],
   "source": [
    "size=128\n",
    "data = []\n",
    "label = []\n",
    "folder_path = f\"{data_path}/flowers\"\n",
    "for folder in os.listdir(folder_path):\n",
    "    for file in os.listdir(os.path.join(folder_path, folder)):\n",
    "        if file.endswith('jpg'):\n",
    "            label.append(folder)\n",
    "            img = cv2.imread(os.path.join(folder_path, folder, file))\n",
    "            img_rgb = cv2.cvtColor(img, cv2.COLOR_BGR2RGB)\n",
    "            im = cv2.resize(img_rgb, (size, size))\n",
    "            data.append(im)\n",
    "        else:\n",
    "            continue"
   ]
  },
  {
   "cell_type": "code",
   "execution_count": 7,
   "id": "da49a707",
   "metadata": {},
   "outputs": [
    {
     "data": {
      "text/plain": [
       "{'daisy', 'dandelion', 'rose', 'sunflower', 'tulip'}"
      ]
     },
     "execution_count": 7,
     "metadata": {},
     "output_type": "execute_result"
    }
   ],
   "source": [
    "set(label)"
   ]
  },
  {
   "cell_type": "code",
   "execution_count": 10,
   "id": "0d2a64c2",
   "metadata": {},
   "outputs": [
    {
     "data": {
      "text/plain": [
       "(4317, 128, 128, 3)"
      ]
     },
     "execution_count": 10,
     "metadata": {},
     "output_type": "execute_result"
    }
   ],
   "source": [
    "np.array(data).shape"
   ]
  },
  {
   "cell_type": "code",
   "execution_count": 11,
   "id": "1f48e33c",
   "metadata": {},
   "outputs": [
    {
     "data": {
      "text/plain": [
       "4317"
      ]
     },
     "execution_count": 11,
     "metadata": {},
     "output_type": "execute_result"
    }
   ],
   "source": [
    "len(label)"
   ]
  },
  {
   "cell_type": "code",
   "execution_count": 12,
   "id": "e6e300d6",
   "metadata": {},
   "outputs": [],
   "source": [
    "data = np.array(data)\n",
    "label = np.array(label)"
   ]
  },
  {
   "cell_type": "code",
   "execution_count": 13,
   "id": "76aeb550",
   "metadata": {},
   "outputs": [],
   "source": [
    "encoder = preprocessing.LabelEncoder()\n",
    "y = encoder.fit_transform(label)\n",
    "y = tf.keras.utils.to_categorical(y, 5)\n",
    "x = data/255"
   ]
  },
  {
   "cell_type": "code",
   "execution_count": 15,
   "id": "8de1df28",
   "metadata": {},
   "outputs": [],
   "source": [
    "x_train, x_test, y_train, y_test = model_selection.train_test_split(x, y, test_size=0.2, random_state=32)"
   ]
  },
  {
   "cell_type": "code",
   "execution_count": 18,
   "id": "4511c794",
   "metadata": {},
   "outputs": [
    {
     "data": {
      "text/plain": [
       "((3453, 128, 128, 3), (864, 128, 128, 3))"
      ]
     },
     "execution_count": 18,
     "metadata": {},
     "output_type": "execute_result"
    }
   ],
   "source": [
    "x_train.shape, x_test.shape"
   ]
  },
  {
   "cell_type": "code",
   "execution_count": 26,
   "id": "8965eeba",
   "metadata": {},
   "outputs": [],
   "source": [
    "model = tf.keras.models.Sequential()\n",
    "model.add(tf.keras.layers.Conv2D(filters=64, kernel_size=3, padding='same', activation='relu', input_shape=(size, size, 3)))\n",
    "model.add(tf.keras.layers.MaxPool2D(pool_size=2))\n",
    "          \n",
    "model.add(tf.keras.layers.Conv2D(filters=128, kernel_size=3, padding='same', activation='relu'))\n",
    "model.add(tf.keras.layers.Conv2D(filters=128, kernel_size=3, padding='same', activation='relu'))\n",
    "model.add(tf.keras.layers.Conv2D(filters=128, kernel_size=3, padding='same', activation='relu'))\n",
    "model.add(tf.keras.layers.MaxPool2D(pool_size=2))\n",
    "\n",
    "model.add(tf.keras.layers.Flatten())\n",
    "\n",
    "model.add(tf.keras.layers.Dense(128, activation='relu'))\n",
    "model.add(tf.keras.layers.Dense(64, activation='relu'))\n",
    "model.add(tf.keras.layers.Dropout(rate=0.5))\n",
    "model.add(tf.keras.layers.Dense(5, activation='softmax'))"
   ]
  },
  {
   "cell_type": "code",
   "execution_count": 27,
   "id": "d1fcb2b6",
   "metadata": {},
   "outputs": [],
   "source": [
    "datagen = tf.keras.preprocessing.image.ImageDataGenerator(rotation_range=20,\n",
    "                                                         zoom_range=0.20,\n",
    "                                                          width_shift_range=0.3,\n",
    "                                                         height_shift_range=0.3,\n",
    "                                                         horizontal_flip=True,\n",
    "                                                         vertical_flip=True)"
   ]
  },
  {
   "cell_type": "code",
   "execution_count": 28,
   "id": "1bfa3eb2",
   "metadata": {},
   "outputs": [],
   "source": [
    "datagen.fit(x_train)\n",
    "tf.keras.optimizers import Adam,SGD,Adagrad,Adadelta,RMSprop"
   ]
  },
  {
   "cell_type": "code",
   "execution_count": 29,
   "id": "e2f3f767",
   "metadata": {},
   "outputs": [],
   "source": [
    "model.compile(optimizer = tf.keras.optimizers.Adam(0.0001),\n",
    "             loss = 'categorical_crossentropy',\n",
    "             metrics=['accuracy'])"
   ]
  },
  {
   "cell_type": "code",
   "execution_count": null,
   "id": "dfd52789",
   "metadata": {},
   "outputs": [
    {
     "name": "stderr",
     "output_type": "stream",
     "text": [
      "C:\\Users\\Lenovo2\\AppData\\Local\\Temp\\ipykernel_20024\\3546935401.py:1: UserWarning: `Model.fit_generator` is deprecated and will be removed in a future version. Please use `Model.fit`, which supports generators.\n",
      "  history_1 = model.fit_generator(datagen.flow(x_train, y_train,batch_size=32),\n"
     ]
    }
   ],
   "source": [
    "history_1 = model.fit_generator(datagen.flow(x_train, y_train,batch_size=32),\n",
    "                                             epochs=10,\n",
    "                                             validation_data=(x_test, y_test),\n",
    "                                             verbose=0)"
   ]
  },
  {
   "cell_type": "code",
   "execution_count": null,
   "id": "12843c7f",
   "metadata": {},
   "outputs": [],
   "source": []
  }
 ],
 "metadata": {
  "kernelspec": {
   "display_name": "Python 3 (ipykernel)",
   "language": "python",
   "name": "python3"
  },
  "language_info": {
   "codemirror_mode": {
    "name": "ipython",
    "version": 3
   },
   "file_extension": ".py",
   "mimetype": "text/x-python",
   "name": "python",
   "nbconvert_exporter": "python",
   "pygments_lexer": "ipython3",
   "version": "3.9.0"
  }
 },
 "nbformat": 4,
 "nbformat_minor": 5
}
