{
  "nbformat": 4,
  "nbformat_minor": 0,
  "metadata": {
    "colab": {
      "name": "Flower-Recognition-Challenges-part4.ipynb",
      "provenance": [],
      "collapsed_sections": [],
      "mount_file_id": "1hdo9rcA2n6__BYNo3CtccJ6gGIQT7wrO",
      "authorship_tag": "ABX9TyOxvSsSzCRcegNjQ/qO0QF2",
      "include_colab_link": true
    },
    "kernelspec": {
      "name": "python3",
      "display_name": "Python 3"
    },
    "language_info": {
      "name": "python"
    }
  },
  "cells": [
    {
      "cell_type": "markdown",
      "metadata": {
        "id": "view-in-github",
        "colab_type": "text"
      },
      "source": [
        "<a href=\"https://colab.research.google.com/github/mralamdari/CV-Object-Detection-Projects/blob/main/Flower_Recognition_Challenges_part4.ipynb\" target=\"_parent\"><img src=\"https://colab.research.google.com/assets/colab-badge.svg\" alt=\"Open In Colab\"/></a>"
      ]
    },
    {
      "cell_type": "code",
      "execution_count": 6,
      "metadata": {
        "id": "m-yaX8oXa0Zc"
      },
      "outputs": [],
      "source": [
        "import os\n",
        "import copy\n",
        "import time\n",
        "import tqdm\n",
        "import torch\n",
        "import warnings\n",
        "import matplotlib\n",
        "import torchvision\n",
        "import numpy as np\n",
        "import pandas as pd\n",
        "from PIL import Image\n",
        "import seaborn as sns\n",
        "import matplotlib.pyplot as plt\n",
        "from sklearn import model_selection, metrics, preprocessing"
      ]
    },
    {
      "cell_type": "code",
      "source": [
        "warnings.filterwarnings('ignore')\n",
        "warnings.filterwarnings('always')\n",
        "device = torch.device('cuda:0' if torch.cuda.is_available() else 'cpu')"
      ],
      "metadata": {
        "id": "gIRIdfKebJrZ"
      },
      "execution_count": 4,
      "outputs": []
    },
    {
      "cell_type": "markdown",
      "source": [
        "##1.Get Data"
      ],
      "metadata": {
        "id": "hDuXm5QEbPhP"
      }
    },
    {
      "cell_type": "code",
      "source": [
        "os.environ['KAGGLE_CONFIG_DIR'] = '/content/drive/MyDrive'\n",
        "!kaggle datasets download -d alxmamaev/flowers-recognition\n",
        "!unzip \\*.zip && rm *.zip"
      ],
      "metadata": {
        "id": "pjO6o3X9bLTc"
      },
      "execution_count": null,
      "outputs": []
    },
    {
      "cell_type": "markdown",
      "source": [
        "#1 1"
      ],
      "metadata": {
        "id": "oYyePadwn5qO"
      }
    },
    {
      "cell_type": "code",
      "source": [
        "datagen = tf.keras.preprocessing.image.ImageDataGenerator(featurewise_center= False,\n",
        "                              samplewise_center= False,\n",
        "                              featurewise_std_normalization= False,\n",
        "                              samplewise_std_normalization=False,\n",
        "                              rotation_range= 10,        # 0- 180\n",
        "                              zca_whitening=False,\n",
        "                              zoom_range=0.1,            # Randomly zoom image\n",
        "                              width_shift_range=0.2,     # randomly shift images horizontally (fraction of total width)\n",
        "                              height_shift_range=0.2,    # randomly shift images vertically (fraction of total height)\n",
        "                              horizontal_flip=True,      # randomly flip images\n",
        "                              vertical_flip=False)       # randomly flip images\n",
        "                             \n",
        "datagen.fit(X_train)\n",
        "\n",
        "\n",
        "History = model.fit_generator(datagen.flow(X_train,y_train, batch_size=batch_size),\n",
        "                              epochs = 50, validation_data = (X_test,y_test),\n",
        "                              verbose = 1, steps_per_epoch=X_train.shape[0] // batch_size)\n",
        "\n",
        "Base_model = VGG16(include_top= False, weights='imagenet',input_shape=(150,150,3), pooling='avg')\n",
        "\n",
        "model = Sequential()\n",
        "model.add(Base_model)\n",
        "model.add(Dense(256,activation='relu'))\n",
        "# adding prediction(softmax) layer\n",
        "model.add(Dense(5,activation=\"softmax\"))\n",
        "\n",
        "Base_model.trainable = False\n",
        "\n"
      ],
      "metadata": {
        "id": "n_qffNH6dlcj"
      },
      "execution_count": null,
      "outputs": []
    },
    {
      "cell_type": "code",
      "source": [
        "val_pred = my_model.predict(x_test)\n",
        "predicted = np.argmax(val_pred, axis=1)\n",
        "\n",
        "plt.figure(figsize=(8,8))\n",
        "\n",
        "actual = np.argmax(y_test, axis=1)\n",
        "conf_mat = confusion_matrix(actual, predicted)\n",
        "sns.heatmap(conf_mat, annot=True, fmt=\"d\", cbar = False,  cmap = plt.cm.Blues)\n",
        "\n",
        "plt.ylabel('True label')\n",
        "plt.xlabel('Predicted label')\n",
        "plt.show()"
      ],
      "metadata": {
        "id": "pmNzVseFvCtT"
      },
      "execution_count": null,
      "outputs": []
    },
    {
      "cell_type": "code",
      "source": [
        "print(classification_report(actual, predicted, target_names = CLASSES))"
      ],
      "metadata": {
        "id": "dWdtIknrvH17"
      },
      "execution_count": null,
      "outputs": []
    },
    {
      "cell_type": "markdown",
      "source": [
        "# 2 2"
      ],
      "metadata": {
        "id": "8A5Ln9Vyv7N3"
      }
    },
    {
      "cell_type": "code",
      "source": [
        "data_generator = ImageDataGenerator(horizontal_flip=True,\n",
        "                                   width_shift_range = 0.4,\n",
        "                                   height_shift_range = 0.4,\n",
        "                                   zoom_range=0.3,\n",
        "                                   rotation_range=20,\n",
        "                                   )\n",
        "\n",
        "image_size = 224\n",
        "batch_size = 10\n",
        "train_generator = data_generator.flow_from_directory(\n",
        "        '../input/flowers-recognition/flowers/flowers/',\n",
        "        target_size=(image_size, image_size),\n",
        "        batch_size=batch_size,\n",
        "        class_mode='categorical')\n",
        "\n",
        "num_classes = len(train_generator.class_indices)\n",
        "Found 4323 images belonging to 5 classes.\n",
        "model = Sequential()\n",
        "\n",
        "model.add(ResNet50(include_top=False, pooling='avg', weights=resnet_weights_path))\n",
        "model.add(Flatten())\n",
        "model.add(BatchNormalization())\n",
        "model.add(Dense(2048, activation='relu'))\n",
        "model.add(BatchNormalization())\n",
        "model.add(Dense(1024, activation='relu'))\n",
        "model.add(BatchNormalization())\n",
        "model.add(Dense(num_classes, activation='softmax'))\n",
        "\n",
        "model.layers[0].trainable = False\n",
        "model.compile(optimizer='adam', loss='categorical_crossentropy', metrics=['accuracy'])\n",
        "count = sum([len(files) for r, d, files in os.walk(\"../input/flowers-recognition/flowers/flowers/\")])\n",
        "\n",
        "model.fit_generator(\n",
        "        train_generator,\n",
        "        steps_per_epoch=int(count/batch_size) + 1,\n",
        "        epochs=10)"
      ],
      "metadata": {
        "id": "QB7qgNo2vHzt"
      },
      "execution_count": null,
      "outputs": []
    }
  ]
}