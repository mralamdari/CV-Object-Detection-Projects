{
  "nbformat": 4,
  "nbformat_minor": 0,
  "metadata": {
    "colab": {
      "name": "Flower-Recognition-Challenges-part4.ipynb",
      "provenance": [],
      "collapsed_sections": [],
      "mount_file_id": "1hdo9rcA2n6__BYNo3CtccJ6gGIQT7wrO",
      "authorship_tag": "ABX9TyP6S4hVytfMD2FyEtAqcckn",
      "include_colab_link": true
    },
    "kernelspec": {
      "name": "python3",
      "display_name": "Python 3"
    },
    "language_info": {
      "name": "python"
    }
  },
  "cells": [
    {
      "cell_type": "markdown",
      "metadata": {
        "id": "view-in-github",
        "colab_type": "text"
      },
      "source": [
        "<a href=\"https://colab.research.google.com/github/mralamdari/CV-Object-Detection-Projects/blob/main/Flower_Recognition_Challenges_part4.ipynb\" target=\"_parent\"><img src=\"https://colab.research.google.com/assets/colab-badge.svg\" alt=\"Open In Colab\"/></a>"
      ]
    },
    {
      "cell_type": "code",
      "execution_count": 12,
      "metadata": {
        "id": "m-yaX8oXa0Zc"
      },
      "outputs": [],
      "source": [
        "import os\n",
        "import cv2\n",
        "import copy\n",
        "import time\n",
        "import tqdm\n",
        "import warnings\n",
        "import matplotlib\n",
        "import numpy as np\n",
        "import pandas as pd\n",
        "from PIL import Image\n",
        "import seaborn as sns\n",
        "import matplotlib.pyplot as plt\n",
        "from sklearn import model_selection, metrics, preprocessing"
      ]
    },
    {
      "cell_type": "code",
      "source": [
        "warnings.filterwarnings('ignore')\n",
        "warnings.filterwarnings('always')"
      ],
      "metadata": {
        "id": "gIRIdfKebJrZ"
      },
      "execution_count": 8,
      "outputs": []
    },
    {
      "cell_type": "markdown",
      "source": [
        "#Data"
      ],
      "metadata": {
        "id": "fyw2zXQCZf_X"
      }
    },
    {
      "cell_type": "markdown",
      "source": [
        "##1.Get Data"
      ],
      "metadata": {
        "id": "hDuXm5QEbPhP"
      }
    },
    {
      "cell_type": "code",
      "source": [
        "os.environ['KAGGLE_CONFIG_DIR'] = '/content/drive/MyDrive'\n",
        "!kaggle datasets download -d alxmamaev/flowers-recognition\n",
        "!unzip \\*.zip && rm *.zip"
      ],
      "metadata": {
        "id": "pjO6o3X9bLTc"
      },
      "execution_count": null,
      "outputs": []
    },
    {
      "cell_type": "code",
      "source": [
        "path_folder = '/content/flowers'\n",
        "\n",
        "size = 224\n",
        "data = []\n",
        "label = []\n",
        "data_names = []\n",
        "id = 0\n",
        "for folder in tqdm.tqdm(os.listdir(path_folder)):\n",
        "  for files in tqdm.tqdm(os.listdir(os.path.join(path_folder, folder))):\n",
        "    if files.endswith('jpg'):\n",
        "      label.append(folder)\n",
        "      img_path = os.path.join(path_folder, folder, files)\n",
        "      data_names.append((id, img_path))\n",
        "      img = cv2.imread(img_path, cv2.IMREAD_COLOR)\n",
        "      im = cv2.resize(img, (size, size))\n",
        "      data.append(im)\n",
        "      id += 1"
      ],
      "metadata": {
        "id": "f0x_YFWsZl-J"
      },
      "execution_count": null,
      "outputs": []
    },
    {
      "cell_type": "code",
      "source": [
        "data = np.array(data)\n",
        "label = np.array(label)"
      ],
      "metadata": {
        "id": "YsWMn0nHZ6i_"
      },
      "execution_count": 16,
      "outputs": []
    },
    {
      "cell_type": "code",
      "source": [
        "data.shape"
      ],
      "metadata": {
        "colab": {
          "base_uri": "https://localhost:8080/"
        },
        "id": "eh-gRCQwa4qe",
        "outputId": "814702bd-4a0c-464e-9e1e-fe0ffc9f8bb8"
      },
      "execution_count": 17,
      "outputs": [
        {
          "output_type": "execute_result",
          "data": {
            "text/plain": [
              "(4317, 224, 224, 3)"
            ]
          },
          "metadata": {},
          "execution_count": 17
        }
      ]
    },
    {
      "cell_type": "code",
      "source": [
        "label.shape"
      ],
      "metadata": {
        "colab": {
          "base_uri": "https://localhost:8080/"
        },
        "id": "-f168uENa53t",
        "outputId": "0225f508-42b7-49e7-cb6c-1e4e3d761836"
      },
      "execution_count": 18,
      "outputs": [
        {
          "output_type": "execute_result",
          "data": {
            "text/plain": [
              "(4317,)"
            ]
          },
          "metadata": {},
          "execution_count": 18
        }
      ]
    },
    {
      "cell_type": "markdown",
      "source": [
        "##1.Preprocess Data"
      ],
      "metadata": {
        "id": "Kt3DEY_mZhRe"
      }
    },
    {
      "cell_type": "code",
      "source": [
        ""
      ],
      "metadata": {
        "id": "GN_ittU2Ze6f"
      },
      "execution_count": null,
      "outputs": []
    },
    {
      "cell_type": "markdown",
      "source": [
        "#Tensorflow"
      ],
      "metadata": {
        "id": "oYyePadwn5qO"
      }
    },
    {
      "cell_type": "code",
      "source": [
        "datagen = tf.keras.preprocessing.image.ImageDataGenerator(featurewise_center= False,\n",
        "                              samplewise_center= False,\n",
        "                              featurewise_std_normalization= False,\n",
        "                              samplewise_std_normalization=False,\n",
        "                              rotation_range= 10,        # 0- 180\n",
        "                              zca_whitening=False,\n",
        "                              zoom_range=0.1,            # Randomly zoom image\n",
        "                              width_shift_range=0.2,     # randomly shift images horizontally (fraction of total width)\n",
        "                              height_shift_range=0.2,    # randomly shift images vertically (fraction of total height)\n",
        "                              horizontal_flip=True,      # randomly flip images\n",
        "                              vertical_flip=False)       # randomly flip images\n",
        "                             \n",
        "datagen.fit(X_train)\n",
        "\n",
        "\n",
        "History = model.fit_generator(datagen.flow(X_train,y_train, batch_size=batch_size),\n",
        "                              epochs = 50, validation_data = (X_test,y_test),\n",
        "                              verbose = 1, steps_per_epoch=X_train.shape[0] // batch_size)\n",
        "\n",
        "Base_model = VGG16(include_top= False, weights='imagenet',input_shape=(150,150,3), pooling='avg')\n",
        "\n",
        "model = Sequential()\n",
        "model.add(Base_model)\n",
        "model.add(Dense(256,activation='relu'))\n",
        "# adding prediction(softmax) layer\n",
        "model.add(Dense(5,activation=\"softmax\"))\n",
        "\n",
        "Base_model.trainable = False\n",
        "\n"
      ],
      "metadata": {
        "id": "n_qffNH6dlcj"
      },
      "execution_count": null,
      "outputs": []
    },
    {
      "cell_type": "code",
      "source": [
        "val_pred = my_model.predict(x_test)\n",
        "predicted = np.argmax(val_pred, axis=1)\n",
        "\n",
        "plt.figure(figsize=(8,8))\n",
        "\n",
        "actual = np.argmax(y_test, axis=1)\n",
        "conf_mat = confusion_matrix(actual, predicted)\n",
        "sns.heatmap(conf_mat, annot=True, fmt=\"d\", cbar = False,  cmap = plt.cm.Blues)\n",
        "\n",
        "plt.ylabel('True label')\n",
        "plt.xlabel('Predicted label')\n",
        "plt.show()"
      ],
      "metadata": {
        "id": "pmNzVseFvCtT"
      },
      "execution_count": null,
      "outputs": []
    },
    {
      "cell_type": "code",
      "source": [
        "print(classification_report(actual, predicted, target_names = CLASSES))"
      ],
      "metadata": {
        "id": "dWdtIknrvH17"
      },
      "execution_count": null,
      "outputs": []
    },
    {
      "cell_type": "markdown",
      "source": [
        "# PyTorch"
      ],
      "metadata": {
        "id": "8A5Ln9Vyv7N3"
      }
    },
    {
      "cell_type": "code",
      "source": [
        "data_generator = ImageDataGenerator(horizontal_flip=True,\n",
        "                                   width_shift_range = 0.4,\n",
        "                                   height_shift_range = 0.4,\n",
        "                                   zoom_range=0.3,\n",
        "                                   rotation_range=20,\n",
        "                                   )\n",
        "\n",
        "image_size = 224\n",
        "batch_size = 10\n",
        "train_generator = data_generator.flow_from_directory(\n",
        "        '../input/flowers-recognition/flowers/flowers/',\n",
        "        target_size=(image_size, image_size),\n",
        "        batch_size=batch_size,\n",
        "        class_mode='categorical')\n",
        "\n",
        "num_classes = len(train_generator.class_indices)\n",
        "model = Sequential()\n",
        "\n",
        "model.add(ResNet50(include_top=False, pooling='avg', weights=resnet_weights_path))\n",
        "model.add(Flatten())\n",
        "model.add(BatchNormalization())\n",
        "model.add(Dense(2048, activation='relu'))\n",
        "model.add(BatchNormalization())\n",
        "model.add(Dense(1024, activation='relu'))\n",
        "model.add(BatchNormalization())\n",
        "model.add(Dense(num_classes, activation='softmax'))\n",
        "\n",
        "model.layers[0].trainable = False\n",
        "model.compile(optimizer='adam', loss='categorical_crossentropy', metrics=['accuracy'])\n",
        "count = sum([len(files) for r, d, files in os.walk(\"../input/flowers-recognition/flowers/flowers/\")])\n",
        "\n",
        "model.fit_generator(\n",
        "        train_generator,\n",
        "        steps_per_epoch=int(count/batch_size) + 1,\n",
        "        epochs=10)"
      ],
      "metadata": {
        "id": "QB7qgNo2vHzt"
      },
      "execution_count": null,
      "outputs": []
    }
  ]
}