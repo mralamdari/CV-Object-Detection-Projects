{
  "nbformat": 4,
  "nbformat_minor": 0,
  "metadata": {
    "colab": {
      "name": "Flower-Recognition-Challenges.ipynb",
      "provenance": [],
      "collapsed_sections": [],
      "authorship_tag": "ABX9TyOkObOuGlg3sXP4vgrcZLWP",
      "include_colab_link": true
    },
    "kernelspec": {
      "name": "python3",
      "display_name": "Python 3"
    },
    "language_info": {
      "name": "python"
    }
  },
  "cells": [
    {
      "cell_type": "markdown",
      "metadata": {
        "id": "view-in-github",
        "colab_type": "text"
      },
      "source": [
        "<a href=\"https://colab.research.google.com/github/mralamdari/CV-Object-Detection-Projects/blob/main/Flower_Recognition_Challenges.ipynb\" target=\"_parent\"><img src=\"https://colab.research.google.com/assets/colab-badge.svg\" alt=\"Open In Colab\"/></a>"
      ]
    },
    {
      "cell_type": "markdown",
      "source": [
        "**Flowers Recognition**\n",
        "It is a dataset from kaggle and I will implement some of the best notebooks and compare them to learn the best pattern to solve this problem.\n",
        "you can access the dataset or the notebooks in [here](https://www.kaggle.com/datasets/alxmamaev/flowers-recognition)"
      ],
      "metadata": {
        "id": "1aZen4Gyyr-v"
      }
    },
    {
      "cell_type": "code",
      "source": [
        "import os\n",
        "import pandas as pd\n",
        "import numpy as np\n",
        "import tensorflow as tf\n",
        "import matplotlib.pyplot as plt"
      ],
      "metadata": {
        "id": "yvUh2IGTxv0v"
      },
      "execution_count": 1,
      "outputs": []
    },
    {
      "cell_type": "markdown",
      "source": [
        "# 1.CNN Architectures : VGG, ResNet, Inception + TL\n",
        "[Note Book](https://www.kaggle.com/code/shivamb/cnn-architectures-vgg-resnet-inception-tl)"
      ],
      "metadata": {
        "id": "LBB884Uwp7Va"
      }
    },
    {
      "cell_type": "markdown",
      "source": [
        "##1.1 VGG16\n",
        "####Visual Geometry Group from Oxford\n",
        "VGG-16 is a convolutional neural network that is 16 layers deep. You can load a pretrained version of the network trained on more than a million images from the ImageNet database. The pretrained network can classify images into 1000 object categories, such as keyboard, mouse, pencil, and many animals"
      ],
      "metadata": {
        "id": "sYe3j7OqvYSl"
      }
    },
    {
      "cell_type": "code",
      "source": [
        " my_input = "
      ],
      "metadata": {
        "id": "y1CNzspSp5av"
      },
      "execution_count": null,
      "outputs": []
    },
    {
      "cell_type": "code",
      "execution_count": null,
      "metadata": {
        "id": "tHeDl0_jxSVn"
      },
      "outputs": [],
      "source": [
        ""
      ]
    }
  ]
}