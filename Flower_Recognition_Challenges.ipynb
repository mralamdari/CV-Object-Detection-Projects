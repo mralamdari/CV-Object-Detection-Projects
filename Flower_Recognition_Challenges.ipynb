{
  "nbformat": 4,
  "nbformat_minor": 0,
  "metadata": {
    "colab": {
      "name": "Flower-Recognition-Challenges.ipynb",
      "provenance": [],
      "collapsed_sections": [],
      "mount_file_id": "15-SrDUSQaTQfJJRr-m2CbeLEnOAvdABB",
      "authorship_tag": "ABX9TyNxQ/vtBfXKAL4SzxfTQVxd",
      "include_colab_link": true
    },
    "kernelspec": {
      "name": "python3",
      "display_name": "Python 3"
    },
    "language_info": {
      "name": "python"
    }
  },
  "cells": [
    {
      "cell_type": "markdown",
      "metadata": {
        "id": "view-in-github",
        "colab_type": "text"
      },
      "source": [
        "<a href=\"https://colab.research.google.com/github/mralamdari/CV-Object-Detection-Projects/blob/main/Flower_Recognition_Challenges.ipynb\" target=\"_parent\"><img src=\"https://colab.research.google.com/assets/colab-badge.svg\" alt=\"Open In Colab\"/></a>"
      ]
    },
    {
      "cell_type": "markdown",
      "source": [
        "**Flowers Recognition**\n",
        "It is a dataset from kaggle and I will implement some of the best notebooks and compare them to learn the best pattern to solve this problem.\n",
        "you can access the dataset or the notebooks in [here](https://www.kaggle.com/datasets/alxmamaev/flowers-recognition)"
      ],
      "metadata": {
        "id": "1aZen4Gyyr-v"
      }
    },
    {
      "cell_type": "code",
      "source": [
        "import os\n",
        "import cv2\n",
        "import numpy as np\n",
        "import pandas as pd\n",
        "import seaborn as sns\n",
        "from PIL import Image\n",
        "import tensorflow as tf\n",
        "import matplotlib.pyplot as plt\n",
        "from sklearn import preprocessing, model_selection, metrics"
      ],
      "metadata": {
        "id": "yvUh2IGTxv0v"
      },
      "execution_count": 3,
      "outputs": []
    },
    {
      "cell_type": "markdown",
      "source": [
        "###Data"
      ],
      "metadata": {
        "id": "EMJbTD53TqfH"
      }
    },
    {
      "cell_type": "code",
      "source": [
        "os.environ['KAGGLE_CONFIG_DIR'] = '/content/drive/MyDrive/'\n",
        "!kaggle datasets download -d alxmamaev/flowers-recognition\n",
        "!unzip \\*.zip && rm *.zip"
      ],
      "metadata": {
        "id": "y2LYYXBQTpva"
      },
      "execution_count": 38,
      "outputs": []
    },
    {
      "cell_type": "code",
      "source": [
        "path_folder = '/content/flowers'\n",
        "\n",
        "size = 224\n",
        "data = []\n",
        "label = []\n",
        "for folder in os.listdir(path_folder):\n",
        "  for files in os.listdir(os.path.join(path_folder, folder)):\n",
        "    if files.endswith('jpg'):\n",
        "      label.append(folder)\n",
        "      img = cv2.imread(os.path.join(path_folder, folder, files))\n",
        "      img_rgb = cv2.cvtColor(img, cv2.COLOR_BGR2RGB)\n",
        "      im = cv2.resize(img_rgb, (size, size))\n",
        "      data.append(im)\n",
        "    else:\n",
        "      continue"
      ],
      "metadata": {
        "id": "VKuMQ_DSVF29"
      },
      "execution_count": 4,
      "outputs": []
    },
    {
      "cell_type": "code",
      "source": [
        "set(label), len(label)"
      ],
      "metadata": {
        "colab": {
          "base_uri": "https://localhost:8080/"
        },
        "id": "bf8c0U7FXceQ",
        "outputId": "d223c590-c172-402f-9dd0-35c99ac06be5"
      },
      "execution_count": 5,
      "outputs": [
        {
          "output_type": "execute_result",
          "data": {
            "text/plain": [
              "({'daisy', 'dandelion', 'rose', 'sunflower', 'tulip'}, 4317)"
            ]
          },
          "metadata": {},
          "execution_count": 5
        }
      ]
    },
    {
      "cell_type": "code",
      "source": [
        "np.array(data).shape"
      ],
      "metadata": {
        "colab": {
          "base_uri": "https://localhost:8080/"
        },
        "id": "4cKZT8X0XgKu",
        "outputId": "67a55fa1-2656-4660-8429-48d53e87d0b3"
      },
      "execution_count": 6,
      "outputs": [
        {
          "output_type": "execute_result",
          "data": {
            "text/plain": [
              "(4317, 224, 224, 3)"
            ]
          },
          "metadata": {},
          "execution_count": 6
        }
      ]
    },
    {
      "cell_type": "code",
      "source": [
        "data = np.array(data)\n",
        "label = np.array(label)"
      ],
      "metadata": {
        "id": "aW6SCiQhXgHn"
      },
      "execution_count": 7,
      "outputs": []
    },
    {
      "cell_type": "code",
      "source": [
        "x = data/255\n",
        "encoder = preprocessing.LabelEncoder()\n",
        "y = encoder.fit_transform(label)\n",
        "y = tf.keras.utils.to_categorical(y)"
      ],
      "metadata": {
        "id": "szesPTsMXjSD"
      },
      "execution_count": 8,
      "outputs": []
    },
    {
      "cell_type": "code",
      "source": [
        "x_train, x_test, y_train, y_test = model_selection.train_test_split(x, y, random_state=32, test_size=0.2)"
      ],
      "metadata": {
        "id": "YL1P4-FEcha9"
      },
      "execution_count": 9,
      "outputs": []
    },
    {
      "cell_type": "code",
      "source": [
        "x_train.shape, x_test.shape"
      ],
      "metadata": {
        "colab": {
          "base_uri": "https://localhost:8080/"
        },
        "id": "REMebpcbc_Wi",
        "outputId": "1699eb68-b98b-47b3-c69e-c11a4167bbe3"
      },
      "execution_count": 10,
      "outputs": [
        {
          "output_type": "execute_result",
          "data": {
            "text/plain": [
              "((3453, 224, 224, 3), (864, 224, 224, 3))"
            ]
          },
          "metadata": {},
          "execution_count": 10
        }
      ]
    },
    {
      "cell_type": "markdown",
      "source": [
        "# 1.CNN Architectures : VGG, ResNet, Inception + TL\n",
        "[Note Book](https://www.kaggle.com/code/shivamb/cnn-architectures-vgg-resnet-inception-tl)"
      ],
      "metadata": {
        "id": "LBB884Uwp7Va"
      }
    },
    {
      "cell_type": "markdown",
      "source": [
        "##1.1 VGG16\n",
        "####Visual Geometry Group from Oxford\n",
        "VGG-16 is a convolutional neural network that is 16 layers deep. You can load a pretrained version of the network trained on more than a million images from the ImageNet database. The pretrained network can classify images into 1000 object categories, such as keyboard, mouse, pencil, and many animals"
      ],
      "metadata": {
        "id": "sYe3j7OqvYSl"
      }
    },
    {
      "cell_type": "markdown",
      "source": [
        "###Data"
      ],
      "metadata": {
        "id": "tTk0TqweTcTX"
      }
    },
    {
      "cell_type": "code",
      "source": [
        "img1 = \"../input/dogs-vs-cats-redux-kernels-edition/train/cat.11679.jpg\"\n",
        "img2 = \"../input/dogs-vs-cats-redux-kernels-edition/train/dog.2811.jpg\"\n",
        "img3 = \"../input/flowers-recognition/flowers/flowers/sunflower/7791014076_07a897cb85_n.jpg\"\n",
        "img4 = \"../input/fruits/fruits-360_dataset/fruits-360/Training/Banana/254_100.jpg\"\n",
        "imgs = [img1, img2, img3, img4]"
      ],
      "metadata": {
        "id": "kRbKkONrTeCa"
      },
      "execution_count": 34,
      "outputs": []
    },
    {
      "cell_type": "code",
      "source": [
        ""
      ],
      "metadata": {
        "id": "sEIiwJKgTgsT"
      },
      "execution_count": null,
      "outputs": []
    },
    {
      "cell_type": "markdown",
      "source": [
        "###From Scratch VGG16"
      ],
      "metadata": {
        "id": "8m0uapPC-auP"
      }
    },
    {
      "cell_type": "code",
      "source": [
        "class VGG16(tf.keras.models.Model):\n",
        "  def __init__(self):\n",
        "    super().__init__()\n",
        "    #1\n",
        "    self.conv1 = tf.keras.layers.Conv2D(filters=64, kernel_size=3, padding='same', activation='relu')\n",
        "    self.conv2 = tf.keras.layers.Conv2D(filters=64, kernel_size=3, padding='same', activation='relu')\n",
        "    self.maxpool1 = tf.keras.layers.MaxPool2D(pool_size=(2, 2))\n",
        "    #2\n",
        "    self.conv3 = tf.keras.layers.Conv2D(filters=128, kernel_size=3, padding='same', activation='relu')\n",
        "    self.conv4 = tf.keras.layers.Conv2D(filters=128, kernel_size=3, padding='same', activation='relu')\n",
        "    self.maxpool2 = tf.keras.layers.MaxPool2D(pool_size=(2, 2))\n",
        "    #3\n",
        "    self.conv5 = tf.keras.layers.Conv2D(filters=256, kernel_size=3, padding='same', activation='relu')\n",
        "    self.conv6 = tf.keras.layers.Conv2D(filters=256, kernel_size=3, padding='same', activation='relu')\n",
        "    self.conv7 = tf.keras.layers.Conv2D(filters=256, kernel_size=3, padding='same', activation='relu')\n",
        "    self.maxpool3 = tf.keras.layers.MaxPool2D(pool_size=(2, 2))\n",
        "    #4\n",
        "    self.conv8 = tf.keras.layers.Conv2D(filters=512, kernel_size=3, padding='same', activation='relu')\n",
        "    self.conv9 = tf.keras.layers.Conv2D(filters=512, kernel_size=3, padding='same', activation='relu')\n",
        "    self.conv10 = tf.keras.layers.Conv2D(filters=512, kernel_size=3, padding='same', activation='relu')\n",
        "    self.maxpool4 = tf.keras.layers.MaxPool2D(pool_size=(2, 2))\n",
        "    #5\n",
        "    self.conv11 = tf.keras.layers.Conv2D(filters=512, kernel_size=3, padding='same', activation='relu')\n",
        "    self.conv12 = tf.keras.layers.Conv2D(filters=512, kernel_size=3, padding='same', activation='relu')\n",
        "    self.conv13 = tf.keras.layers.Conv2D(filters=512, kernel_size=3, padding='same', activation='relu')\n",
        "    self.maxpool5 = tf.keras.layers.MaxPool2D(pool_size=(2, 2))\n",
        "    #6\n",
        "    self.flat = tf.keras.layers.Flatten()\n",
        "    self.dense1 = tf.keras.layers.Dense(4096, activation='relu')\n",
        "    self.dense2 = tf.keras.layers.Dense(4096, activation='relu')\n",
        "    self.dense3 = tf.keras.layers.Dense(1000, activation='softmax')\n",
        "\n",
        "  def call(self, inputs):\n",
        "    x = self.conv1(inputs)\n",
        "    x = self.conv2(x)\n",
        "    x = self.maxpool1(x)\n",
        "\n",
        "    x = self.conv3(x)\n",
        "    x = self.conv4(x)\n",
        "    x = self.maxpool2(x)\n",
        "\n",
        "    x = self.conv5(x)\n",
        "    x = self.conv6(x)\n",
        "    x = self.conv7(x)\n",
        "    x = self.maxpool3(x)\n",
        "\n",
        "    x = self.conv8(x)\n",
        "    x = self.conv9(x)\n",
        "    x = self.conv10(x)\n",
        "    x = self.maxpool4(x)\n",
        "\n",
        "    x = self.conv11(x)\n",
        "    x = self.conv12(x)\n",
        "    x = self.conv13(x)\n",
        "    x = self.maxpool5(x)\n",
        "    \n",
        "    x = self.flat(x)\n",
        "    x = self.dense1(x)\n",
        "    x = self.dense2(x)\n",
        "    x = self.dense3(x)\n",
        "\n",
        "    return x"
      ],
      "metadata": {
        "id": "CmSwf58-01TO"
      },
      "execution_count": 31,
      "outputs": []
    },
    {
      "cell_type": "code",
      "source": [
        "my_input = tf.keras.layers.Input((224, 224, 1))\n",
        "vgg16_model = VGG16()\n",
        "vgg16_model(my_input)"
      ],
      "metadata": {
        "colab": {
          "base_uri": "https://localhost:8080/"
        },
        "id": "y1CNzspSp5av",
        "outputId": "341e4b96-b165-422b-c4dc-7b2b75fa1856"
      },
      "execution_count": 32,
      "outputs": [
        {
          "output_type": "execute_result",
          "data": {
            "text/plain": [
              "<KerasTensor: shape=(None, 1000) dtype=float32 (created by layer 'vgg16_12')>"
            ]
          },
          "metadata": {},
          "execution_count": 32
        }
      ]
    },
    {
      "cell_type": "markdown",
      "source": [
        "###Pretrained VGG16"
      ],
      "metadata": {
        "id": "hUQsA65T-hGD"
      }
    },
    {
      "cell_type": "code",
      "execution_count": null,
      "metadata": {
        "id": "tHeDl0_jxSVn"
      },
      "outputs": [],
      "source": [
        ""
      ]
    }
  ]
}