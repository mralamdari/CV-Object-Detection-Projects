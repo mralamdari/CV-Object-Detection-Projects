{
 "cells": [
  {
   "cell_type": "code",
   "execution_count": 2,
   "id": "8eb604da",
   "metadata": {},
   "outputs": [],
   "source": [
    "import os\n",
    "import cv2\n",
    "import zipfile\n",
    "import numpy as np\n",
    "import pandas as pd\n",
    "import matplotlib.pyplot as plt\n",
    "import tensorflow as tf\n",
    "from sklearn import preprocessing, model_selection"
   ]
  },
  {
   "cell_type": "code",
   "execution_count": 3,
   "id": "080b40d3",
   "metadata": {},
   "outputs": [],
   "source": [
    "data_path = './data/'\n",
    "if not os.path.exists(data_path):\n",
    "    os.makedirs(data_path, exist_ok=True)\n",
    "    with zipfile.ZipFile('archive.zip', 'r') as zip_f:\n",
    "        zip_f.extractall(data_path)"
   ]
  },
  {
   "cell_type": "code",
   "execution_count": 5,
   "id": "fd773e24",
   "metadata": {},
   "outputs": [],
   "source": [
    "size=128\n",
    "data = []\n",
    "label = []\n",
    "folder_path = f\"{data_path}/flowers\"\n",
    "for folder in os.listdir(folder_path):\n",
    "    for file in os.listdir(os.path.join(folder_path, folder)):\n",
    "        if file.endswith('jpg'):\n",
    "            label.append(folder)\n",
    "            img = cv2.imread(os.path.join(folder_path, folder, file))\n",
    "            img_rgb = cv2.cvtColor(img, cv2.COLOR_BGR2RGB)\n",
    "            im = cv2.resize(img_rgb, (size, size))\n",
    "            data.append(im)\n",
    "        else:\n",
    "            continue"
   ]
  },
  {
   "cell_type": "code",
   "execution_count": 7,
   "id": "da49a707",
   "metadata": {},
   "outputs": [
    {
     "data": {
      "text/plain": [
       "{'daisy', 'dandelion', 'rose', 'sunflower', 'tulip'}"
      ]
     },
     "execution_count": 7,
     "metadata": {},
     "output_type": "execute_result"
    }
   ],
   "source": [
    "set(label)"
   ]
  },
  {
   "cell_type": "code",
   "execution_count": 10,
   "id": "0d2a64c2",
   "metadata": {},
   "outputs": [
    {
     "data": {
      "text/plain": [
       "(4317, 128, 128, 3)"
      ]
     },
     "execution_count": 10,
     "metadata": {},
     "output_type": "execute_result"
    }
   ],
   "source": [
    "np.array(data).shape"
   ]
  },
  {
   "cell_type": "code",
   "execution_count": 11,
   "id": "1f48e33c",
   "metadata": {},
   "outputs": [
    {
     "data": {
      "text/plain": [
       "4317"
      ]
     },
     "execution_count": 11,
     "metadata": {},
     "output_type": "execute_result"
    }
   ],
   "source": [
    "len(label)"
   ]
  },
  {
   "cell_type": "code",
   "execution_count": 12,
   "id": "f29781a0",
   "metadata": {},
   "outputs": [],
   "source": [
    "data = np.array(data)\n",
    "label = np.array(label)"
   ]
  },
  {
   "cell_type": "code",
   "execution_count": 13,
   "id": "8b342dc6",
   "metadata": {},
   "outputs": [],
   "source": [
    "encoder = preprocessing.LabelEncoder()\n",
    "y = encoder.fit_transform(label)\n",
    "y = tf.keras.utils.to_categorical(y, 5)\n",
    "x = data/255"
   ]
  },
  {
   "cell_type": "code",
   "execution_count": 15,
   "id": "82331063",
   "metadata": {},
   "outputs": [],
   "source": [
    "x_train, x_test, y_train, y_test = model_selection.train_test_split(x, y, test_size=0.2, random_state=32)"
   ]
  },
  {
   "cell_type": "code",
   "execution_count": 18,
   "id": "923cf12b",
   "metadata": {},
   "outputs": [
    {
     "data": {
      "text/plain": [
       "((3453, 128, 128, 3), (864, 128, 128, 3))"
      ]
     },
     "execution_count": 18,
     "metadata": {},
     "output_type": "execute_result"
    }
   ],
   "source": [
    "x_train.shape, x_test.shape"
   ]
  },
  {
   "cell_type": "code",
   "execution_count": 21,
   "id": "d724cc1e",
   "metadata": {},
   "outputs": [
    {
     "ename": "SyntaxError",
     "evalue": "unexpected EOF while parsing (134477947.py, line 15)",
     "output_type": "error",
     "traceback": [
      "\u001b[1;36m  Input \u001b[1;32mIn [21]\u001b[1;36m\u001b[0m\n\u001b[1;33m    # model.add(tf.keras.layers.Dense(5, activation='softmax'))\u001b[0m\n\u001b[1;37m                                                               ^\u001b[0m\n\u001b[1;31mSyntaxError\u001b[0m\u001b[1;31m:\u001b[0m unexpected EOF while parsing\n"
     ]
    }
   ],
   "source": [
    "model = tf.keras.models.Sequential()\n",
    "model.add(tf.keras.layers.Conv2D(filters=64, kernel_size=3, padding='same', activation='relu', input_shape=(size, size, 3))\n",
    "# model.add(tf.keras.layers.Max(pool_size=2))\n",
    "          \n",
    "# model.add(tf.keras.layers.Conv2D(filters=128, kernel_size=3, padding='same', activation='relu'))\n",
    "# model.add(tf.keras.layers.Conv2D(filters=128, kernel_size=3, padding='same', activation='relu'))\n",
    "# model.add(tf.keras.layers.Conv2D(filters=128, kernel_size=3, padding='same', activation='relu'))\n",
    "# model.add(tf.keras.layers.Max(pool_size=2))\n",
    "\n",
    "# model.add(tf.keras.layers.Flatten())\n",
    "\n",
    "# model.add(tf.keras.layers.Dense(128, activation='relu'))\n",
    "# model.add(tf.keras.layers.Dense(64, activation='relu'))\n",
    "# model.addd(tf.keras.layers.Dropout(rate=0.5))\n",
    "# model.add(tf.keras.layers.Dense(5, activation='softmax'))"
   ]
  },
  {
   "cell_type": "code",
   "execution_count": null,
   "id": "5a3c9e38",
   "metadata": {},
   "outputs": [],
   "source": []
  }
 ],
 "metadata": {
  "kernelspec": {
   "display_name": "Python 3 (ipykernel)",
   "language": "python",
   "name": "python3"
  },
  "language_info": {
   "codemirror_mode": {
    "name": "ipython",
    "version": 3
   },
   "file_extension": ".py",
   "mimetype": "text/x-python",
   "name": "python",
   "nbconvert_exporter": "python",
   "pygments_lexer": "ipython3",
   "version": "3.9.0"
  }
 },
 "nbformat": 4,
 "nbformat_minor": 5
}
