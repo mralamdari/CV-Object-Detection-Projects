{
 "cells": [
  {
   "cell_type": "code",
   "execution_count": 2,
   "id": "8eb604da",
   "metadata": {},
   "outputs": [],
   "source": [
    "import os\n",
    "import cv2\n",
    "import zipfile\n",
    "import numpy as np\n",
    "import pandas as pd\n",
    "import matplotlib.pyplot as plt\n",
    "import tensorflow as tf\n",
    "from sklearn import preprocessing, model_selection"
   ]
  },
  {
   "cell_type": "code",
   "execution_count": 3,
   "id": "080b40d3",
   "metadata": {},
   "outputs": [],
   "source": [
    "data_path = './data/'\n",
    "if not os.path.exists(data_path):\n",
    "    os.makedirs(data_path, exist_ok=True)\n",
    "    with zipfile.ZipFile('archive.zip', 'r') as zip_f:\n",
    "        zip_f.extractall(data_path)"
   ]
  },
  {
   "cell_type": "code",
   "execution_count": 5,
   "id": "fd773e24",
   "metadata": {},
   "outputs": [],
   "source": [
    "size=128\n",
    "data = []\n",
    "label = []\n",
    "folder_path = f\"{data_path}/flowers\"\n",
    "for folder in os.listdir(folder_path):\n",
    "    for file in os.listdir(os.path.join(folder_path, folder)):\n",
    "        if file.endswith('jpg'):\n",
    "            label.append(folder)\n",
    "            img = cv2.imread(os.path.join(folder_path, folder, file))\n",
    "            img_rgb = cv2.cvtColor(img, cv2.COLOR_BGR2RGB)\n",
    "            im = cv2.resize(img_rgb, (size, size))\n",
    "            data.append(im)\n",
    "        else:\n",
    "            continue"
   ]
  },
  {
   "cell_type": "code",
   "execution_count": 7,
   "id": "da49a707",
   "metadata": {},
   "outputs": [
    {
     "data": {
      "text/plain": [
       "{'daisy', 'dandelion', 'rose', 'sunflower', 'tulip'}"
      ]
     },
     "execution_count": 7,
     "metadata": {},
     "output_type": "execute_result"
    }
   ],
   "source": [
    "set(label)"
   ]
  },
  {
   "cell_type": "code",
   "execution_count": 10,
   "id": "0d2a64c2",
   "metadata": {},
   "outputs": [
    {
     "data": {
      "text/plain": [
       "(4317, 128, 128, 3)"
      ]
     },
     "execution_count": 10,
     "metadata": {},
     "output_type": "execute_result"
    }
   ],
   "source": [
    "np.array(data).shape"
   ]
  },
  {
   "cell_type": "code",
   "execution_count": 11,
   "id": "1f48e33c",
   "metadata": {},
   "outputs": [
    {
     "data": {
      "text/plain": [
       "4317"
      ]
     },
     "execution_count": 11,
     "metadata": {},
     "output_type": "execute_result"
    }
   ],
   "source": [
    "len(label)"
   ]
  },
  {
   "cell_type": "code",
   "execution_count": null,
   "id": "a57fef46",
   "metadata": {},
   "outputs": [],
   "source": []
  }
 ],
 "metadata": {
  "kernelspec": {
   "display_name": "Python 3 (ipykernel)",
   "language": "python",
   "name": "python3"
  },
  "language_info": {
   "codemirror_mode": {
    "name": "ipython",
    "version": 3
   },
   "file_extension": ".py",
   "mimetype": "text/x-python",
   "name": "python",
   "nbconvert_exporter": "python",
   "pygments_lexer": "ipython3",
   "version": "3.9.0"
  }
 },
 "nbformat": 4,
 "nbformat_minor": 5
}
