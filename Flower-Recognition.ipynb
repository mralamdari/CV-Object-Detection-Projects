{
 "cells": [
  {
   "cell_type": "code",
   "execution_count": 1,
   "id": "8eb604da",
   "metadata": {},
   "outputs": [],
   "source": [
    "import os\n",
    "import cv2\n",
    "import zipfile\n",
    "import numpy as np\n",
    "import pandas as pd\n",
    "import matplotlib.pyplot as plt\n",
    "import tensorflow as tf\n",
    "from sklearn import preprocessing, model_selection"
   ]
  },
  {
   "cell_type": "code",
   "execution_count": 2,
   "id": "080b40d3",
   "metadata": {},
   "outputs": [],
   "source": [
    "data_path = './data/'\n",
    "if not os.path.exists(data_path):\n",
    "    os.makedirs(data_path, exist_ok=True)\n",
    "    with zipfile.ZipFile('archive.zip', 'r') as zip_f:\n",
    "        zip_f.extractall(data_path)"
   ]
  },
  {
   "cell_type": "code",
   "execution_count": 3,
   "id": "fd773e24",
   "metadata": {},
   "outputs": [],
   "source": [
    "size=128\n",
    "data = []\n",
    "label = []\n",
    "folder_path = f\"{data_path}/flowers\"\n",
    "for folder in os.listdir(folder_path):\n",
    "    for file in os.listdir(os.path.join(folder_path, folder)):\n",
    "        if file.endswith('jpg'):\n",
    "            label.append(folder)\n",
    "            img = cv2.imread(os.path.join(folder_path, folder, file))\n",
    "            img_rgb = cv2.cvtColor(img, cv2.COLOR_BGR2RGB)\n",
    "            im = cv2.resize(img_rgb, (size, size))\n",
    "            data.append(im)\n",
    "        else:\n",
    "            continue"
   ]
  },
  {
   "cell_type": "code",
   "execution_count": 4,
   "id": "da49a707",
   "metadata": {},
   "outputs": [
    {
     "data": {
      "text/plain": [
       "{'daisy', 'dandelion', 'rose', 'sunflower', 'tulip'}"
      ]
     },
     "execution_count": 4,
     "metadata": {},
     "output_type": "execute_result"
    }
   ],
   "source": [
    "set(label)"
   ]
  },
  {
   "cell_type": "code",
   "execution_count": 5,
   "id": "0d2a64c2",
   "metadata": {},
   "outputs": [
    {
     "data": {
      "text/plain": [
       "(4317, 128, 128, 3)"
      ]
     },
     "execution_count": 5,
     "metadata": {},
     "output_type": "execute_result"
    }
   ],
   "source": [
    "np.array(data).shape"
   ]
  },
  {
   "cell_type": "code",
   "execution_count": 6,
   "id": "1f48e33c",
   "metadata": {},
   "outputs": [
    {
     "data": {
      "text/plain": [
       "4317"
      ]
     },
     "execution_count": 6,
     "metadata": {},
     "output_type": "execute_result"
    }
   ],
   "source": [
    "len(label)"
   ]
  },
  {
   "cell_type": "code",
   "execution_count": 7,
   "id": "e5d8b474",
   "metadata": {},
   "outputs": [],
   "source": [
    "data = np.array(data)\n",
    "label = np.array(label)"
   ]
  },
  {
   "cell_type": "code",
   "execution_count": 8,
   "id": "4cbce056",
   "metadata": {},
   "outputs": [],
   "source": [
    "encoder = preprocessing.LabelEncoder()\n",
    "y = encoder.fit_transform(label)\n",
    "y = tf.keras.utils.to_categorical(y, 5)\n",
    "x = data/255"
   ]
  },
  {
   "cell_type": "code",
   "execution_count": 9,
   "id": "c4799f20",
   "metadata": {},
   "outputs": [],
   "source": [
    "x_train, x_test, y_train, y_test = model_selection.train_test_split(x, y, test_size=0.2, random_state=32)"
   ]
  },
  {
   "cell_type": "code",
   "execution_count": 10,
   "id": "68d9f77c",
   "metadata": {},
   "outputs": [
    {
     "data": {
      "text/plain": [
       "((3453, 128, 128, 3), (864, 128, 128, 3))"
      ]
     },
     "execution_count": 10,
     "metadata": {},
     "output_type": "execute_result"
    }
   ],
   "source": [
    "x_train.shape, x_test.shape"
   ]
  },
  {
   "cell_type": "code",
   "execution_count": 11,
   "id": "e5e591c3",
   "metadata": {},
   "outputs": [],
   "source": [
    "model = tf.keras.models.Sequential()\n",
    "model.add(tf.keras.layers.Conv2D(filters=64, kernel_size=3, padding='same', activation='relu', input_shape=(size, size, 3)))\n",
    "model.add(tf.keras.layers.MaxPool2D(pool_size=2))\n",
    "          \n",
    "model.add(tf.keras.layers.Conv2D(filters=128, kernel_size=3, padding='same', activation='relu'))\n",
    "model.add(tf.keras.layers.Conv2D(filters=128, kernel_size=3, padding='same', activation='relu'))\n",
    "model.add(tf.keras.layers.Conv2D(filters=128, kernel_size=3, padding='same', activation='relu'))\n",
    "model.add(tf.keras.layers.MaxPool2D(pool_size=2))\n",
    "\n",
    "model.add(tf.keras.layers.Flatten())\n",
    "\n",
    "model.add(tf.keras.layers.Dense(128, activation='relu'))\n",
    "model.add(tf.keras.layers.Dense(64, activation='relu'))\n",
    "model.add(tf.keras.layers.Dropout(rate=0.5))\n",
    "model.add(tf.keras.layers.Dense(5, activation='softmax'))"
   ]
  },
  {
   "cell_type": "code",
   "execution_count": 57,
   "id": "a692e10c",
   "metadata": {},
   "outputs": [],
   "source": [
    "datagen = tf.keras.preprocessing.image.ImageDataGenerator(rotation_range=20,\n",
    "                                                         zoom_range=0.20,\n",
    "                                                         width_shift_range=0.3,\n",
    "                                                         height_shift_range=0.3,\n",
    "                                                         horizontal_flip=True,\n",
    "                                                         vertical_flip=True)"
   ]
  },
  {
   "cell_type": "code",
   "execution_count": 13,
   "id": "34689052",
   "metadata": {},
   "outputs": [],
   "source": [
    "datagen.fit(x_train)"
   ]
  },
  {
   "cell_type": "code",
   "execution_count": 14,
   "id": "abeb28b0",
   "metadata": {},
   "outputs": [],
   "source": [
    "model.compile(optimizer = tf.keras.optimizers.Adam(0.01),\n",
    "             loss = 'categorical_crossentropy',\n",
    "             metrics=['accuracy'])\n",
    "# tf.keras.optimizers import Adam,SGD,Adagrad,Adadelta,RMSprop"
   ]
  },
  {
   "cell_type": "code",
   "execution_count": 18,
   "id": "31b3f42b",
   "metadata": {},
   "outputs": [
    {
     "name": "stdout",
     "output_type": "stream",
     "text": [
      "Epoch 1/10\n",
      "108/108 [==============================] - 10s 87ms/step - loss: 1.5987 - accuracy: 0.2436 - val_loss: 1.6024 - val_accuracy: 0.2442\n",
      "Epoch 2/10\n",
      "108/108 [==============================] - 9s 81ms/step - loss: 1.6004 - accuracy: 0.2375 - val_loss: 1.6012 - val_accuracy: 0.2442\n",
      "Epoch 3/10\n",
      "108/108 [==============================] - 9s 79ms/step - loss: 1.5990 - accuracy: 0.2436 - val_loss: 1.6018 - val_accuracy: 0.2442\n",
      "Epoch 4/10\n",
      "108/108 [==============================] - 9s 79ms/step - loss: 1.5992 - accuracy: 0.2421 - val_loss: 1.6028 - val_accuracy: 0.2442\n",
      "Epoch 5/10\n",
      "108/108 [==============================] - 9s 79ms/step - loss: 1.5995 - accuracy: 0.2436 - val_loss: 1.6025 - val_accuracy: 0.2442\n",
      "Epoch 6/10\n",
      "108/108 [==============================] - 9s 80ms/step - loss: 1.5989 - accuracy: 0.2360 - val_loss: 1.5996 - val_accuracy: 0.2442\n",
      "Epoch 7/10\n",
      "108/108 [==============================] - 9s 80ms/step - loss: 1.5993 - accuracy: 0.2436 - val_loss: 1.6018 - val_accuracy: 0.2442\n",
      "Epoch 8/10\n",
      "108/108 [==============================] - 9s 80ms/step - loss: 1.5987 - accuracy: 0.2436 - val_loss: 1.6044 - val_accuracy: 0.2442\n",
      "Epoch 9/10\n",
      "108/108 [==============================] - 9s 79ms/step - loss: 1.5992 - accuracy: 0.2436 - val_loss: 1.6032 - val_accuracy: 0.2442\n",
      "Epoch 10/10\n",
      "108/108 [==============================] - 9s 81ms/step - loss: 1.5992 - accuracy: 0.2436 - val_loss: 1.6022 - val_accuracy: 0.2442\n"
     ]
    }
   ],
   "source": [
    "history_1 = model.fit(datagen.flow(x_train, y_train,batch_size=32),\n",
    "                                             epochs=10,\n",
    "                                             validation_data=(x_test, y_test),\n",
    "                                             verbose=1)"
   ]
  },
  {
   "cell_type": "code",
   "execution_count": 67,
   "id": "7c11f870",
   "metadata": {},
   "outputs": [],
   "source": [
    "def plot_history(history, loss=True):\n",
    "  title = 'loss' if loss else 'accuracy'\n",
    "  plt.title(f'Train Validation {title}')\n",
    "  plt.plot(range(1, num_epochs+1), history[f'{title}'], label='Train')\n",
    "  plt.plot(range(1, num_epochs+1), history[f'val_{title}'], label='Validation')\n",
    "  plt.xlabel('Trainig Epochs')\n",
    "  plt.ylabel(title)\n",
    "  plt.legend()\n",
    "  plt.grid()\n",
    "  plt.show()"
   ]
  },
  {
   "cell_type": "code",
   "execution_count": 68,
   "id": "47aceb89",
   "metadata": {},
   "outputs": [
    {
     "data": {
      "image/png": "[encoded data removed]",
      "text/plain": [
       "<Figure size 432x288 with 1 Axes>"
      ]
     },
     "metadata": {
      "needs_background": "light"
     },
     "output_type": "display_data"
    }
   ],
   "source": [
    "plot_history(history_1.history)"
   ]
  },
  {
   "cell_type": "code",
   "execution_count": 69,
   "id": "5e5ae28f",
   "metadata": {},
   "outputs": [
    {
     "data": {
      "image/png": "[encoded data removed]",
      "text/plain": [
       "<Figure size 432x288 with 1 Axes>"
      ]
     },
     "metadata": {
      "needs_background": "light"
     },
     "output_type": "display_data"
    }
   ],
   "source": [
    "plot_history(history_1.history, False)"
   ]
  },
  {
   "cell_type": "code",
   "execution_count": 70,
   "id": "5d93edd0",
   "metadata": {},
   "outputs": [],
   "source": [
    "row, col = 6, 6\n",
    "categories = np.sort(os.listdir(folder_path))\n",
    "fix, ax = plt.subplots(row, cal, figsize=(30, 50))\n",
    "for i in range(row):\n",
    "    for j in range(col):\n",
    "        k = np.random.randint(0, len(x_test), 1)\n",
    "        true_y = categories[np.argmax(y_test[k])]\n",
    "        pred = categories[np.argmax(model.predict(x_test)[k])]\n",
    "        pred_color = 'green' if pred == true_y else 'red'\n",
    "        ax[i, j].set_title(f\"True: {true_y}\", color='green')\n",
    "        ax[i, j].set_xlabel(f\"Prediction: {pred}\", color=pred_color)\n",
    "        ax[i, j].imshow(np.array(x_test)[k].reshape(size, size, 3), cmap='gray')\n",
    "            "
   ]
  },
  {
   "cell_type": "code",
   "execution_count": 71,
   "id": "efc092ea",
   "metadata": {},
   "outputs": [
    {
     "data": {
      "text/plain": [
       "array([[0.18177794, 0.24340959, 0.1835326 , 0.15848334, 0.2327966 ],\n",
       "       [0.18177794, 0.24340959, 0.1835326 , 0.15848334, 0.2327966 ],\n",
       "       [0.18177794, 0.24340959, 0.1835326 , 0.15848334, 0.2327966 ],\n",
       "       ...,\n",
       "       [0.18177794, 0.24340959, 0.1835326 , 0.15848334, 0.2327966 ],\n",
       "       [0.18177794, 0.24340959, 0.1835326 , 0.15848334, 0.2327966 ],\n",
       "       [0.18177794, 0.24340959, 0.1835326 , 0.15848334, 0.2327966 ]],\n",
       "      dtype=float32)"
      ]
     },
     "execution_count": 71,
     "metadata": {},
     "output_type": "execute_result"
    }
   ],
   "source": [
    "predictions = model.predict(x_test)\n",
    "predictions"
   ]
  },
  {
   "cell_type": "code",
   "execution_count": 72,
   "id": "be80f1de",
   "metadata": {},
   "outputs": [
    {
     "data": {
      "text/plain": [
       "array([[0.18177794, 0.24340959, 0.1835326 , 0.15848334, 0.2327966 ],\n",
       "       [0.18177794, 0.24340959, 0.1835326 , 0.15848334, 0.2327966 ],\n",
       "       [0.18177794, 0.24340959, 0.1835326 , 0.15848334, 0.2327966 ],\n",
       "       ...,\n",
       "       [0.18177794, 0.24340959, 0.1835326 , 0.15848334, 0.2327966 ],\n",
       "       [0.18177794, 0.24340959, 0.1835326 , 0.15848334, 0.2327966 ],\n",
       "       [0.18177794, 0.24340959, 0.1835326 , 0.15848334, 0.2327966 ]],\n",
       "      dtype=float32)"
      ]
     },
     "execution_count": 72,
     "metadata": {},
     "output_type": "execute_result"
    }
   ],
   "source": [
    "# true_grounds\n",
    "model.predict(x_train)"
   ]
  },
  {
   "cell_type": "code",
   "execution_count": null,
   "id": "40e837b8",
   "metadata": {},
   "outputs": [],
   "source": []
  },
  {
   "cell_type": "code",
   "execution_count": null,
   "id": "1ddbb9c3",
   "metadata": {},
   "outputs": [],
   "source": []
  }
 ],
 "metadata": {
  "kernelspec": {
   "display_name": "Python 3 (ipykernel)",
   "language": "python",
   "name": "python3"
  },
  "language_info": {
   "codemirror_mode": {
    "name": "ipython",
    "version": 3
   },
   "file_extension": ".py",
   "mimetype": "text/x-python",
   "name": "python",
   "nbconvert_exporter": "python",
   "pygments_lexer": "ipython3",
   "version": "3.9.0"
  }
 },
 "nbformat": 4,
 "nbformat_minor": 5
}
